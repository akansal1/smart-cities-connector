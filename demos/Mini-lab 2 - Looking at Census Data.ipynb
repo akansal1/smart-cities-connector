{
 "cells": [
  {
   "cell_type": "markdown",
   "metadata": {},
   "source": [
    "# Minilab 2  - Looking at Census Data\n",
    "\n",
    "In the following lab we will take a look at some census data. A [census](https://en.wikipedia.org/wiki/Census) is the procedure of systematically acquiring and recording information about the members of a given population. The U.S. is required to take census data every 10 years. Information on the race, ethnicity, age, household size, family size etc. are recorded per [census tract](https://en.wikipedia.org/wiki/Census_tract).\n",
    "\n",
    "In this lab we will look at the distribution of population age for a few Berkeley census tracts."
   ]
  },
  {
   "cell_type": "markdown",
   "metadata": {},
   "source": [
    "### First some imports\n",
    "Click in the box below and press 'Shift'+'Enter' to run the code."
   ]
  },
  {
   "cell_type": "code",
   "execution_count": null,
   "metadata": {
    "collapsed": false
   },
   "outputs": [],
   "source": [
    "from datascience import *\n",
    "import numpy as np"
   ]
  },
  {
   "cell_type": "markdown",
   "metadata": {},
   "source": [
    "### Next, reading the data\n",
    "\n",
    "Sites like http://census.ire.org/ provide a nice interface to allow you to download census data. But we have downloaded the relevant data and cleaned it for you. Read in the csv below to see what the data looks like."
   ]
  },
  {
   "cell_type": "code",
   "execution_count": null,
   "metadata": {
    "collapsed": false
   },
   "outputs": [],
   "source": [
    "data = Table.read_table('data/bay_area_census_age.csv')\n",
    "\n",
    "data"
   ]
  },
  {
   "cell_type": "markdown",
   "metadata": {},
   "source": [
    "### About the data\n",
    "In the table above, we have total population, male population, female population, and population by age group for all the census tracts in the bay area. \n",
    "\n",
    "In addition we have some **geographic properties** of each census tract including the land area, water area, and latitude and longitude coordinates for a point inside the census tract."
   ]
  },
  {
   "cell_type": "markdown",
   "metadata": {},
   "source": [
    "### Using a method\n",
    "\n",
    "Don't be scared by the code below - we will get into the details later in the course. For now just recognize that the code below is a *method* used to compute the distance between two (latitude, longitude) coordinates. Press 'Shift' + 'Enter' to run the code in the box below, we will use this method shortly."
   ]
  },
  {
   "cell_type": "code",
   "execution_count": null,
   "metadata": {
    "collapsed": true
   },
   "outputs": [],
   "source": [
    "def distance_on_unit_sphere(lat1, long1, lat2, long2):\n",
    "\n",
    "    # Convert latitude and longitude to spherical coordinates in radians.\n",
    "    degrees_to_radians = np.pi/180.0\n",
    "        \n",
    "    # phi = 90 - latitude\n",
    "    phi1 = (90.0 - lat1)*degrees_to_radians\n",
    "    phi2 = (90.0 - lat2)*degrees_to_radians\n",
    "        \n",
    "    # theta = longitude\n",
    "    theta1 = long1*degrees_to_radians\n",
    "    theta2 = long2*degrees_to_radians\n",
    "        \n",
    "    # Compute spherical distance from spherical coordinates.\n",
    "        \n",
    "    # For two locations in spherical coordinates \n",
    "    # (1, theta, phi) and (1, theta, phi)\n",
    "    # cosine( arc length ) = \n",
    "    #    sin phi sin phi' cos(theta-theta') + cos phi cos phi'\n",
    "    # distance = rho * arc length\n",
    "    \n",
    "    cos = (np.sin(phi1)*np.sin(phi2)*np.cos(theta1 - theta2) + \n",
    "           np.cos(phi1)*np.cos(phi2))\n",
    "    arc = np.arccos( cos )\n",
    "\n",
    "    # Multiply arc by the radius of the earth to get length.\n",
    "    return 3960.*arc #to get distance in miles"
   ]
  },
  {
   "cell_type": "markdown",
   "metadata": {},
   "source": [
    "### Find the census tract closest to the Channing-Bowditch apartments (just South of Campus)\n",
    "Now we will use the distance_on_unit_sphere() method to find the census tract closest to the Channing-Bowditch apartments. From [Google Maps](https://goo.gl/maps/5xudrVbixun) we learn that the apartment is located at 37.867495, -122.257617 (lat, lon). We use the .apply() method to calculate the distance between each census tract and the Channing Bodwitch apartment."
   ]
  },
  {
   "cell_type": "code",
   "execution_count": null,
   "metadata": {
    "collapsed": false
   },
   "outputs": [],
   "source": [
    "#return closest to 37.867495, -122.257617 (Channing-Bowditch apartments): https://goo.gl/maps/5xudrVbixun\n",
    "lat1, lon1 = 37.867495, -122.257617\n",
    "\n",
    "# calculate the distance from the Channing-Bowditch apartments to each tract. Save this in the data table \n",
    "# in a column labeled 'distance to Channing'\n",
    "data['distance to Channing'] = data.apply(lambda lat2, lon2 : distance_on_unit_sphere(lat1, lon1, lat2, lon2), \n",
    "                                          ['INTPTLAT10', 'INTPTLON10'])\n",
    "\n",
    "#select the row where 'distance to Channing' is minimum. This is the closest census tract to the Channing Apartments\n",
    "channing_tract = data.where(data['distance to Channing'] == min(data['distance to Channing']))\n",
    "\n",
    "#let's take a look at what this looks like.\n",
    "channing_tract"
   ]
  },
  {
   "cell_type": "markdown",
   "metadata": {},
   "source": [
    "### Let's create a horizontal bar graph of population vs. age group\n",
    "We can use the barh function to create a bar graph. The function needs the data to be oriented in a single column. Right now the data is all oriented in one row. We will do a little trick and use the .stack() method to rotate the table. We will save this table as a variable called tograph"
   ]
  },
  {
   "cell_type": "code",
   "execution_count": null,
   "metadata": {
    "collapsed": false
   },
   "outputs": [],
   "source": [
    "tograph = channing_tract.select(['Under 5 years', '5 to 9 years', '10 to 14 years','15 to 19 years',\n",
    "                                 '20 to 24 years','25 to 29 years','30 to 34 years','35 to 39 years',\n",
    "                                 '40 to 44 years','45 to 49 years','50 to 54 years','55 to 59 years',\n",
    "                                 '60 to 64 years','65 to 69 years','70 to 74 years','75 to 79 years',\n",
    "                                 '80 to 84 years','85 years and over','STATE']).stack('STATE')\n",
    "tograph"
   ]
  },
  {
   "cell_type": "markdown",
   "metadata": {},
   "source": [
    "### Run the code below to create the bar graph."
   ]
  },
  {
   "cell_type": "code",
   "execution_count": null,
   "metadata": {
    "collapsed": false
   },
   "outputs": [],
   "source": [
    "tograph.select(['column','value']).barh('column')"
   ]
  },
  {
   "cell_type": "markdown",
   "metadata": {},
   "source": [
    "**Question 1: ** What can we say about the data plotted above? Which age groups have the highest population. Do you think this is representative of the population for the rest of the Bay Area?"
   ]
  },
  {
   "cell_type": "code",
   "execution_count": null,
   "metadata": {
    "collapsed": true
   },
   "outputs": [],
   "source": [
    "# Answer here:\n",
    "\n"
   ]
  },
  {
   "cell_type": "markdown",
   "metadata": {},
   "source": [
    "### Let's look at another South Berkeley Location\n",
    "Let's see what the population looks like farther south in Berkeley, near the Oakland-Berkeley border. There's a Whole Foods at the [corner of Ashby and Telegraph](https://goo.gl/maps/xNXp4XgtbN12). Let's repeat the procedure above to find the closest census tract to the Whole Foods and create a bar graph of the population at this location."
   ]
  },
  {
   "cell_type": "code",
   "execution_count": null,
   "metadata": {
    "collapsed": false
   },
   "outputs": [],
   "source": [
    "#Whole Foods at Ashby and Telegraph, 37.858636,-122.2620359 https://goo.gl/maps/xNXp4XgtbN12\n",
    "lat1, lon1 = 37.858636,-122.2620359\n",
    "\n",
    "# calculate the distance from the Whole Foods to each census tract. Save this in the data table \n",
    "# in a column labeled 'distance to Whole Foods'\n",
    "data['distance to Whole Foods'] = data.apply(lambda lat2, lon2 : distance_on_unit_sphere(lat1, lon1, lat2, lon2), ['INTPTLAT10', 'INTPTLON10'])\n",
    "\n",
    "#select the row where 'distance to Channing' is minimum. This is the closest census tract to the Channing Apartments\n",
    "wholefood_tract = data.where(data['distance to Whole Foods'] == min(data['distance to Whole Foods']))\n",
    "\n",
    "# create a bar graph of the population by age.\n",
    "tograph = wholefood_tract.select(['Under 5 years', '5 to 9 years', '10 to 14 years','15 to 19 years',\n",
    "                                  '20 to 24 years','25 to 29 years','30 to 34 years','35 to 39 years',\n",
    "                                  '40 to 44 years','45 to 49 years','50 to 54 years','55 to 59 years',\n",
    "                                  '60 to 64 years','65 to 69 years','70 to 74 years','75 to 79 years',\n",
    "                                  '80 to 84 years','85 years and over','STATE']).stack('STATE')\n",
    "\n",
    "tograph.select(['column','value']).barh('column')"
   ]
  },
  {
   "cell_type": "markdown",
   "metadata": {},
   "source": [
    "** Question 2: ** Comment on how the population data for this census tract looks different from the population data from the Channing-Bowditch apartments census tract. What might explain the differences in the age demographics in the two census tracts. "
   ]
  },
  {
   "cell_type": "code",
   "execution_count": null,
   "metadata": {
    "collapsed": true
   },
   "outputs": [],
   "source": [
    "#Answer here\n"
   ]
  },
  {
   "cell_type": "markdown",
   "metadata": {},
   "source": [
    "### What about the Berkeley Hills?\n",
    "Let's look at one more Berkeley census tract. [Remilard Park](https://goo.gl/maps/3kCQkTDHjb32) is located in the Berkeley Hills, Northeast of campus. \n",
    "\n",
    "**Question 3: ** How do you expect the population data in this census tract to compare to the others?"
   ]
  },
  {
   "cell_type": "code",
   "execution_count": null,
   "metadata": {
    "collapsed": true
   },
   "outputs": [],
   "source": [
    "# Answer here\n"
   ]
  },
  {
   "cell_type": "markdown",
   "metadata": {},
   "source": [
    " Run the code below to find out."
   ]
  },
  {
   "cell_type": "code",
   "execution_count": null,
   "metadata": {
    "collapsed": false
   },
   "outputs": [],
   "source": [
    "#Remilard Park Berkeley Hills 37.8892735,-122.2616268 https://goo.gl/maps/3kCQkTDHjb32\n",
    "lat1, lon1 = 37.8892735,-122.2616268\n",
    "\n",
    "data['distance to Berkeley Hills'] = data.apply(lambda lat2, lon2 : distance_on_unit_sphere(lat1, lon1, lat2, lon2), ['INTPTLAT10', 'INTPTLON10'])\n",
    "\n",
    "berkeleyhills_tract = data.where(data['distance to Berkeley Hills'] == min(data['distance to Berkeley Hills']))\n",
    "\n",
    "tograph = berkeleyhills_tract.select(['Under 5 years', '5 to 9 years', '10 to 14 years','15 to 19 years',\n",
    "                                      '20 to 24 years','25 to 29 years','30 to 34 years','35 to 39 years',\n",
    "                                      '40 to 44 years','45 to 49 years','50 to 54 years','55 to 59 years',\n",
    "                                      '60 to 64 years','65 to 69 years','70 to 74 years','75 to 79 years',\n",
    "                                      '80 to 84 years','85 years and over','STATE']).stack('STATE')\n",
    "\n",
    "tograph.select(['column','value']).barh('column')"
   ]
  },
  {
   "cell_type": "markdown",
   "metadata": {},
   "source": [
    "** Question 4: ** How does the age distribution in this census tract compare to the age-distribution in the previous two census tracts? Does this conform to your expectations?"
   ]
  },
  {
   "cell_type": "code",
   "execution_count": null,
   "metadata": {
    "collapsed": true
   },
   "outputs": [],
   "source": [
    "# Answer here\n"
   ]
  },
  {
   "cell_type": "markdown",
   "metadata": {},
   "source": [
    "### If time allows\n",
    "Pick another Bay Area location, look up the lat, lon coordinates and see if you can replicate the procedure above to find the closest census tract and plot the population vs. age for this census tract. Comment on your findings."
   ]
  },
  {
   "cell_type": "code",
   "execution_count": null,
   "metadata": {
    "collapsed": true
   },
   "outputs": [],
   "source": [
    "# Your code here\n"
   ]
  }
 ],
 "metadata": {
  "kernelspec": {
   "display_name": "Python 3",
   "language": "python",
   "name": "python3"
  },
  "language_info": {
   "codemirror_mode": {
    "name": "ipython",
    "version": 3
   },
   "file_extension": ".py",
   "mimetype": "text/x-python",
   "name": "python",
   "nbconvert_exporter": "python",
   "pygments_lexer": "ipython3",
   "version": "3.4.3"
  }
 },
 "nbformat": 4,
 "nbformat_minor": 0
}
