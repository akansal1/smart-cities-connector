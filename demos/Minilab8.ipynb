{
 "cells": [
  {
   "cell_type": "markdown",
   "metadata": {},
   "source": [
    "# Minilab 8 - Predictions and _confidence intervals_\n",
    "\n",
    "## SF Taxi data\n",
    "We have already looked at how to predict taxi fares as a function of trip distance using [linear regression](https://en.wikipedia.org/wiki/Linear_regression). Now we will look at how confident we are in the linear regression model. Rather than constructing a single best-fit line for our taxi-data sample, we will construct a confidence interval for the linear regression.\n",
    "\n",
    "As a reminder, the dataset is San Francisco Taxi data from 9/1/2012 to 9/17/2012. The dataset consists of 50,000 taxi trips taken in the Bay Area during that time period. For each trip we are given the departure time, arrival time, passenger fare, departure lat/lon coordinates, arrival lat/lon coordinates, departure taz and arrival taz. "
   ]
  },
  {
   "cell_type": "code",
   "execution_count": null,
   "metadata": {
    "collapsed": true
   },
   "outputs": [],
   "source": [
    "from datascience import *\n",
    "import datetime\n",
    "import matplotlib.pyplot as plt\n",
    "import numpy as np\n",
    "import warnings\n",
    "from scipy import stats\n",
    "\n",
    "warnings.filterwarnings(\"ignore\")\n",
    "%matplotlib inline"
   ]
  },
  {
   "cell_type": "markdown",
   "metadata": {},
   "source": [
    "# Part 1: Recap of SF Taxi data "
   ]
  },
  {
   "cell_type": "code",
   "execution_count": null,
   "metadata": {
    "collapsed": false,
    "scrolled": true
   },
   "outputs": [],
   "source": [
    "sf_taxi = Table.read_table('data/SF_taxi_data.csv')\n",
    "sf_taxi"
   ]
  },
  {
   "cell_type": "markdown",
   "metadata": {},
   "source": [
    "### Adding input variables\n",
    "As we did in minilab 7, we can use helper functions to create other input varaibles."
   ]
  },
  {
   "cell_type": "code",
   "execution_count": null,
   "metadata": {
    "collapsed": true
   },
   "outputs": [],
   "source": [
    "#Helper methods\n",
    "def get_dur(start,finish): \n",
    "    start_time = datetime.datetime.strptime(start, \"%m/%d/%y %H:%M\")\n",
    "    end_time = datetime.datetime.strptime(finish, \"%m/%d/%y %H:%M\")\n",
    "    return (end_time-start_time).seconds/60.\n",
    "\n",
    "def get_hour(s): \n",
    "    return datetime.datetime.strptime(s, \"%m/%d/%y %H:%M\").hour\n",
    "\n",
    "def get_date(s): \n",
    "    return datetime.datetime.strptime(s, \"%m/%d/%y %H:%M\").date()\n",
    "\n",
    "def get_weekday(s): # 0 = Monday - 6= Sunday\n",
    "    return datetime.datetime.strptime(s, \"%m/%d/%y %H:%M\").date().weekday()\n",
    "\n",
    "def base_fare(d):\n",
    "    # 3.5 + 0.55*(5*d - 1), considering only completed 1/5-th miles (hence np.modf()[1])\n",
    "    return ( 3.5 + 0.55* (np.modf(5*d)[1] - 1) )\n",
    "\n",
    "def fit(x,y): return np.poly1d(np.polyfit(x,y,1))(x)"
   ]
  },
  {
   "cell_type": "code",
   "execution_count": null,
   "metadata": {
    "collapsed": false
   },
   "outputs": [],
   "source": [
    "#Adding other inputs to our data table\n",
    "sf_taxi[\"duration (min)\"] = sf_taxi.apply(lambda start, finish: get_dur(start, finish), \n",
    "                                          [\"departure time\", \"arrival time\"])\n",
    "sf_taxi['start hour'] = sf_taxi.apply(get_hour, \"departure time\")\n",
    "sf_taxi['date'] = sf_taxi.apply(get_date, \"departure time\")\n",
    "sf_taxi['day of week'] = sf_taxi.apply(get_weekday, \"departure time\")\n",
    "sf_taxi['extra'] = sf_taxi[\"fare ($)\"] - base_fare(sf_taxi[\"dist (miles)\"])\n",
    "#reminder extra is fare (beyond expected distance fair) paid by a passenger."
   ]
  },
  {
   "cell_type": "markdown",
   "metadata": {},
   "source": [
    "### Filter sf taxi data\n",
    "As we did in minilab 7 we are only going to focus on data where the number of passengers = 1, where the base fare is greater than 3.5, and where the extra fee is non-negative. We will also focus on trips that are non-SFO trips and have a distance between 0.1 and 15 miles. "
   ]
  },
  {
   "cell_type": "code",
   "execution_count": null,
   "metadata": {
    "collapsed": false
   },
   "outputs": [],
   "source": [
    "#Filter erroneous trips\n",
    "# one pax trips only\n",
    "sf_taxi = sf_taxi.where(sf_taxi[\"num\"]==1)\n",
    "# fares <3.5 are likely to be errors\n",
    "sf_taxi = sf_taxi.where(sf_taxi[\"fare ($)\"]>3.5)\n",
    "# filter table to only contain fares where extra>0, assume extra<0 are erroneous.\n",
    "sf_taxi = sf_taxi.where(sf_taxi[\"extra\"]>=0)\n",
    "\n",
    "#filter non-SFO trips with 0.1 miles < distance < 15 miles.\n",
    "nsfo_taxi = sf_taxi.where( (sf_taxi[\"deptaz\"] != 239) & (sf_taxi[\"arrtaz\"] != 239) )\n",
    "# Keep only trips shorter than 15 miles, and longer than 0.1\n",
    "nsfo_taxi = nsfo_taxi.where(nsfo_taxi[\"dist (miles)\"] < 15)\n",
    "nsfo_taxi = nsfo_taxi.where(nsfo_taxi[\"dist (miles)\"] > 0.1)"
   ]
  },
  {
   "cell_type": "markdown",
   "metadata": {},
   "source": [
    "## Visualize fares data\n",
    "As we did in minilab7 we can visualize fare vs. trip distance in a scatter plot. We can also visualize extra fare vs. distance. \n",
    "### Fare vs Trip Length:"
   ]
  },
  {
   "cell_type": "code",
   "execution_count": null,
   "metadata": {
    "collapsed": false
   },
   "outputs": [],
   "source": [
    "plt.figure(figsize = (12,8))\n",
    "\n",
    "# plot fares for all trips\n",
    "x, y=  nsfo_taxi.column(\"dist (miles)\"), nsfo_taxi.column(\"fare ($)\")\n",
    "plt.scatter(x,y,color='blue', alpha = .5)\n",
    "\n",
    "# plot the lower bound of the fare, i.e. the official formula\n",
    "plt.plot([0, 40], [base_fare(0), base_fare(40)], 'red', label='Base fare')\n",
    "\n",
    "plt.title('Non-SFO trips: Fare vs. distance')\n",
    "plt.xlabel('Distance, miles')\n",
    "plt.ylabel('Fare, $')\n",
    "plt.ylim([0,200])\n",
    "plt.xlim([0,18])\n",
    "plt.legend()"
   ]
  },
  {
   "cell_type": "markdown",
   "metadata": {},
   "source": [
    "### Extra Fare vs Trip Length:"
   ]
  },
  {
   "cell_type": "code",
   "execution_count": null,
   "metadata": {
    "collapsed": false,
    "scrolled": true
   },
   "outputs": [],
   "source": [
    "x, extra = nsfo_taxi.column(\"dist (miles)\"), nsfo_taxi.column(\"extra\")\n",
    "#distance vs. extra\n",
    "plt.figure(figsize = (8,6))\n",
    "plt.scatter(x, extra, color='blue', alpha = .05, label='Delay surcharge')\n",
    "\n",
    "plt.plot(x, fit(x,extra), color='red')\n",
    "\n",
    "plt.title('Non-SFO trips: Extra fare vs. distance')\n",
    "plt.xlabel('Distance, miles')\n",
    "plt.ylabel('Extra fare, $')\n",
    "plt.ylim([-5,15])\n",
    "plt.xlim([0,10])"
   ]
  },
  {
   "cell_type": "markdown",
   "metadata": {},
   "source": [
    "# Part 2.  Prediction with linear regression\n",
    "\n",
    "The function below applies slope and intercept computations and returns these parameters of a simple linear regression y=a*x+b fit to data in a given table. "
   ]
  },
  {
   "cell_type": "code",
   "execution_count": null,
   "metadata": {
    "collapsed": false
   },
   "outputs": [],
   "source": [
    "def standard_units(any_numbers):\n",
    "    \"Convert any array of numbers to standard units.\"\n",
    "    return (any_numbers - np.mean(any_numbers))/np.std(any_numbers)  \n",
    "\n",
    "def correlation(t, x, y):\n",
    "    \"Compute r.\"\n",
    "    return np.mean(standard_units(t.column(x))*standard_units(t.column(y)))\n",
    "\n",
    "def slope(table, x, y):\n",
    "    r = correlation(table, x, y)\n",
    "    return r * np.std(table.column(y))/np.std(table.column(x))\n",
    "\n",
    "def intercept(table, x, y):\n",
    "    a = slope(table, x, y)\n",
    "    return np.mean(table.column(y)) - a * np.mean(table.column(x))\n",
    "\n",
    "def linear_coeff(table, x, y):\n",
    "    \"\"\"Return the regression line slope and intercept coefficients.\"\"\"\n",
    "    a = slope(table, x, y)\n",
    "    b = intercept(table, x, y)\n",
    "    return a, b"
   ]
  },
  {
   "cell_type": "markdown",
   "metadata": {},
   "source": [
    "## Predictive model\n",
    "\n",
    "Our predictive models will be using the extra fare computed with an SFMTA formula, and fitting a linear regression to the remaining extra fare. "
   ]
  },
  {
   "cell_type": "code",
   "execution_count": null,
   "metadata": {
    "collapsed": true
   },
   "outputs": [],
   "source": [
    "def predict_fare(table, dist):\n",
    "    \n",
    "    # compute parameters of a linear regression for the 'extra', as a function of distance\n",
    "    # add base fare and compute predicted 'extra'\n",
    "    return base_fare(dist) + predict_extra(table, dist)\n",
    "\n",
    "def predict_extra(table, dist):\n",
    "    \n",
    "    # compute parameters of a linear regression for the 'extra', as a function of distance\n",
    "    a,b = linear_coeff(table, \"dist (miles)\", \"extra\")\n",
    "    \n",
    "    #return extra\n",
    "    return (a*dist + b)"
   ]
  },
  {
   "cell_type": "markdown",
   "metadata": {},
   "source": [
    "### Reminder: this is how we use these functions"
   ]
  },
  {
   "cell_type": "code",
   "execution_count": null,
   "metadata": {
    "collapsed": false
   },
   "outputs": [],
   "source": [
    "d = 12.1\n",
    "\n",
    "print('Base fare for a %.1f miles trip is: $%.1f' % (d, base_fare(d)))\n",
    "print('Predicted extra fare for a %.1f miles trip is: $%.1f' % (d, predict_extra(nsfo_taxi, d)))\n",
    "print('Predicted actual fare for a %.1f miles trip is: $%.1f' % (d, predict_fare(nsfo_taxi, d)))"
   ]
  },
  {
   "cell_type": "markdown",
   "metadata": {},
   "source": [
    "# Part 3: Confidence intervals\n",
    "When we run linear regression, we are calculating the best fit line for a given sample. How confident can we be that the relationship we found will hold for a different sample (e.g. for data from a different day, etc)? \n",
    "\n",
    "There is uncertainty in the slope estimate, and the y-intercept estimate of the regression. In our dataset we have thousands of taxi trips, but what if we only had to build a predictor based on a small subset of the samples? How confident can we be that the model holds? We will explore these questions in this section of the lab.\n",
    "\n",
    "The below function helps us calculate a confidence interval for linear regression."
   ]
  },
  {
   "cell_type": "code",
   "execution_count": null,
   "metadata": {
    "collapsed": false
   },
   "outputs": [],
   "source": [
    "def conf_int(y_hat, std_y, n, x, x_bar, std_x):\n",
    "    #y_hat = predicted y-value, std_y=standard deviation of y, n = number of samples\n",
    "    #x = x-value of predicted value, x_bar = mean x-value, std_x = standard deviation of x\n",
    "    tstat = stats.t.ppf(1-0.025, n-2)\n",
    "    lower = y_hat - tstat * std_y * np.sqrt(1./n+(x-x_bar)**2/((n-1)*std_x**2))\n",
    "    upper = y_hat + tstat * std_y * np.sqrt(1./n+(x-x_bar)**2/((n-1)*std_x**2))\n",
    "    \n",
    "    #return the upper and lower bounds of the confidence interval at a specific point.\n",
    "    return lower, upper"
   ]
  },
  {
   "cell_type": "markdown",
   "metadata": {},
   "source": [
    "### Linear regression confidence interval for a 50-taxi-fare sample size \n",
    "If we take a random sample of 50 taxi fares from the nsfo_taxi table, we can compute the linear relationship between the 'extra fare' and distance."
   ]
  },
  {
   "cell_type": "code",
   "execution_count": null,
   "metadata": {
    "collapsed": false
   },
   "outputs": [],
   "source": [
    "#grab 50 random samples:  # or maybe grab one day?\n",
    "rand_sample = nsfo_taxi.sample(50)\n",
    "\n",
    "# create scatter plot extra fare vs time\n",
    "x,extra = rand_sample.column(\"dist (miles)\"), rand_sample.column(\"extra\")\n",
    "plt.figure(figsize = (8,6))\n",
    "plt.scatter(x, extra, color='blue', alpha = .5)\n",
    "\n",
    "plt.plot(x, fit(x,extra), color='red', label = 'Best fit line')\n",
    "plt.ylim([-5,15])\n",
    "plt.xlim([0,10])\n",
    "\n",
    "\n",
    "l_int, u_int = [],[]\n",
    "for dist in range(11):\n",
    "    lower, upper = conf_int(predict_extra(rand_sample,dist), np.std(extra), len(extra), \n",
    "                            dist, np.mean(x), np.std(x))\n",
    "    l_int.append(lower)\n",
    "    u_int.append(upper)\n",
    "\n",
    "plt.plot(range(11), l_int, label = 'Lower bound of 95% confidence interval')\n",
    "plt.plot(range(11), u_int, label = 'Upper bound of 95% confidence interval')\n",
    "\n",
    "plt.title('Non-SFO trips: Extra fare vs. distance')\n",
    "plt.xlabel('Distance, miles')\n",
    "plt.ylabel('Extra fare, $')\n",
    "plt.legend()"
   ]
  },
  {
   "cell_type": "markdown",
   "metadata": {},
   "source": [
    "### Overlaying 20 best fit lines\n",
    "For any group of 50 randomly selected samples, we will get a new best-fit line. The 95% confidence interval indicates that we expect about 95% of these best-fit lines to fall within these bounds. Let's test this out by selecting 20 random groups of 50 samples and plotting the best-fit line."
   ]
  },
  {
   "cell_type": "code",
   "execution_count": null,
   "metadata": {
    "collapsed": false
   },
   "outputs": [],
   "source": [
    "# replot the best fit line and confidence interval from above\n",
    "plt.figure(figsize = (8,6))\n",
    "plt.scatter(x, extra, color='blue', alpha = .5)\n",
    "\n",
    "plt.plot(x, fit(x,extra), color='red')\n",
    "plt.ylim([-5,15])\n",
    "plt.xlim([0,10])\n",
    "\n",
    "plt.plot(range(11), l_int, 'blue', label = 'Lower bound of 95% confidence interval')\n",
    "plt.plot(range(11), u_int, 'green', label = 'Upper bound of 95% confidence interval')\n",
    "\n",
    "#add best fit line for 20 more runs\n",
    "for i in range(20):\n",
    "    rand_sample = nsfo_taxi.sample(50)\n",
    "\n",
    "    # create scatter plot extra fars vs time\n",
    "    x_, extra_ = rand_sample.column(\"dist (miles)\"), rand_sample.column(\"extra\")\n",
    "    plt.plot(x_, fit(x_,extra_), color='red', alpha=.2)\n",
    "\n",
    "     \n",
    "plt.plot(range(11), l_int)\n",
    "plt.plot(range(11), u_int)\n",
    "plt.title('Non-SFO trips: Extra fare vs. distance')\n",
    "plt.xlabel('Distance, miles')\n",
    "plt.ylabel('Extra fare, $')\n",
    "plt.legend()"
   ]
  },
  {
   "cell_type": "markdown",
   "metadata": {},
   "source": [
    "**Question:** Notice that the confidence intervals have a kind of bow-tie shape, where it's narrower in the middle and wider at the edges. What does this signify? Why do you think this is?"
   ]
  },
  {
   "cell_type": "code",
   "execution_count": null,
   "metadata": {
    "collapsed": true
   },
   "outputs": [],
   "source": [
    "# Your answer here"
   ]
  },
  {
   "cell_type": "markdown",
   "metadata": {},
   "source": [
    "## Effect of sample size on confidence interval\n"
   ]
  },
  {
   "cell_type": "code",
   "execution_count": null,
   "metadata": {
    "collapsed": false
   },
   "outputs": [],
   "source": [
    "plt.figure(figsize = (8,6))\n",
    "plt.ylim([-5,15])\n",
    "plt.xlim([0,10])\n",
    "plt.title('Non-SFO trips: Extra fare vs. distance')\n",
    "plt.xlabel('Distance, miles')\n",
    "plt.ylabel('Extra fare, $')\n",
    "\n",
    "#1000 sample confidence interval\n",
    "rand_sample = nsfo_taxi.sample(1000)\n",
    "x,extra = rand_sample.column(\"dist (miles)\"), rand_sample.column(\"extra\")\n",
    "l_int, u_int = [],[]\n",
    "for dist in range(11):\n",
    "    lower, upper = conf_int(predict_extra(rand_sample,dist), np.std(extra), len(extra), \n",
    "                            dist, np.mean(x), np.std(x))\n",
    "    l_int.append(lower)\n",
    "    u_int.append(upper)\n",
    "\n",
    "plt.plot(range(11), l_int, ls='-', color='blue', label = '1000 sample lower bound of 95% CI')\n",
    "plt.plot(range(11), u_int, ls='-', color='green', label = '1000 sample upper bound of 95% CI')\n",
    "\n",
    "\n",
    "#100 sample confidence interval\n",
    "\n",
    "# Your code here! Make the line style '--' so you can tell which confidence interval is which.\n",
    "\n",
    "\n",
    "\n",
    "plt.legend()"
   ]
  },
  {
   "cell_type": "markdown",
   "metadata": {},
   "source": [
    "**Question:** How does the 100 sample confidence interval compare to the 1000 sample confidence interval. Run the above code a few times to see a few iterations, how do the confidence intervals change from run to run?\n",
    "\n",
    "What does this tell you about the relationship between confidence interval and sample size?"
   ]
  },
  {
   "cell_type": "code",
   "execution_count": null,
   "metadata": {
    "collapsed": true
   },
   "outputs": [],
   "source": [
    "#Answer here:\n",
    "\n"
   ]
  }
 ],
 "metadata": {
  "kernelspec": {
   "display_name": "Python 3",
   "language": "python",
   "name": "python3"
  },
  "language_info": {
   "codemirror_mode": {
    "name": "ipython",
    "version": 3
   },
   "file_extension": ".py",
   "mimetype": "text/x-python",
   "name": "python",
   "nbconvert_exporter": "python",
   "pygments_lexer": "ipython3",
   "version": "3.4.4"
  }
 },
 "nbformat": 4,
 "nbformat_minor": 0
}
