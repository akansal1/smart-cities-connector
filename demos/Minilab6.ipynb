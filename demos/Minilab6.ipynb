{
 "cells": [
  {
   "cell_type": "markdown",
   "metadata": {},
   "source": [
    "# Minilab 6 - SF Taxi data\n",
    "\n",
    "In this minilab we will begin to use [linear regression](https://en.wikipedia.org/wiki/Linear_regression) to further look at trends in datasets. We will explore how we can use linear regression to make predictions of future \n",
    "\n",
    "\n",
    "The dataset is San Francisco Taxi data from 9/1/2012 to 9/17/2012. The dataset consists of 50,000 taxi trips taken in the Bay Area during that time period. For each trip we are given the departure time, arrival time, passenger fare, departure lat/lon coordinates, arrival lat/lon coordinates, departure taz and arrival taz. "
   ]
  },
  {
   "cell_type": "code",
   "execution_count": null,
   "metadata": {
    "collapsed": true
   },
   "outputs": [],
   "source": [
    "from datascience import *\n",
    "import datetime\n",
    "import matplotlib.pyplot as plt\n",
    "import numpy as np\n",
    "import warnings\n",
    "warnings.filterwarnings(\"ignore\")"
   ]
  },
  {
   "cell_type": "code",
   "execution_count": null,
   "metadata": {
    "collapsed": false
   },
   "outputs": [],
   "source": [
    "sf_taxi = Table.read_table('data/SF_taxi_data.csv')\n",
    "sf_taxi"
   ]
  },
  {
   "cell_type": "markdown",
   "metadata": {},
   "source": [
    "## Step one - Adding meaningful columns to our data table\n",
    "The data table is rich, but the inputs are not as useful as they could be. For example we have date/time strings for arrival and departure. We may like to have information on trip duration, rather than a list of start and end times."
   ]
  },
  {
   "cell_type": "markdown",
   "metadata": {},
   "source": [
    "### Computing Trip Duration\n",
    "We can write our own methods to help process the data. For example we can create a method to compute trip duration. First we have to convert the departure time and arrival time into a timestamp, then we can compute the difference. Finally we convert it to minutes. I have written the get_dur() function below.\n",
    "\n",
    "**Task 1** Use the [.apply](http://data8.org/datascience/_autosummary/datascience.tables.Table.apply.html#datascience.tables.Table.apply) method to create a 'trip duration (min)' column in the sf_taxi table.\n"
   ]
  },
  {
   "cell_type": "code",
   "execution_count": null,
   "metadata": {
    "collapsed": true
   },
   "outputs": [],
   "source": [
    "def get_dur(start,finish): \n",
    "    start_time = datetime.datetime.strptime(start, \"%m/%d/%y %H:%M\")\n",
    "    end_time = datetime.datetime.strptime(finish, \"%m/%d/%y %H:%M\")\n",
    "    return (end_time-start_time).seconds/60."
   ]
  },
  {
   "cell_type": "code",
   "execution_count": null,
   "metadata": {
    "collapsed": true
   },
   "outputs": [],
   "source": [
    "# Your code here\n"
   ]
  },
  {
   "cell_type": "markdown",
   "metadata": {},
   "source": [
    "## Scatter Plots of trip duration vs. distance\n",
    "\n",
    "** Task 2** Create a scatter plot of travel time vs. distace. Make sure fit_line is enabled"
   ]
  },
  {
   "cell_type": "code",
   "execution_count": null,
   "metadata": {
    "collapsed": false
   },
   "outputs": [],
   "source": [
    "# Your code here"
   ]
  },
  {
   "cell_type": "markdown",
   "metadata": {},
   "source": [
    "### Making inferences\n",
    "** Question 1** Use the linear regression result to predict the time to travel 25 miles in the bay area. Do you think this is a good prediction? Why or why not? \n",
    "What is the travel time for a 5 mile trip? What about a 35 mile trip? Do you think these are good predictions?\n"
   ]
  },
  {
   "cell_type": "code",
   "execution_count": null,
   "metadata": {
    "collapsed": true
   },
   "outputs": [],
   "source": [
    "# Your answer here\n"
   ]
  },
  {
   "cell_type": "markdown",
   "metadata": {},
   "source": [
    "## Segmenting the data.\n",
    "The best fit line above includes all 50,000 trips from a 2+ week period in 2012. This may not be the best representation of the relationship for all trips. The relationship between trip duration and distance traveled on a weekday may be different than that on a weekend, for example. In the cell below I have given you some helper functions that may be useful in segmenting your data. \n",
    "\n",
    "** Task 3** Add a 'start hour' column and a 'day of week', column to the sf_taxi table using the helper functions below."
   ]
  },
  {
   "cell_type": "code",
   "execution_count": null,
   "metadata": {
    "collapsed": false
   },
   "outputs": [],
   "source": [
    "def get_hour(s): return datetime.datetime.strptime(s, \"%m/%d/%y %H:%M\").hour\n",
    "def get_date(s): return datetime.datetime.strptime(s, \"%m/%d/%y %H:%M\").date()\n",
    "def get_weekday(s): return datetime.datetime.strptime(s, \"%m/%d/%y %H:%M\").date().weekday()\n",
    "# 0 = Monday - 6= Sunday\n",
    "\n",
    "def fit(x,y): return np.poly1d(np.polyfit(x,y,1))(x)"
   ]
  },
  {
   "cell_type": "code",
   "execution_count": null,
   "metadata": {
    "collapsed": false
   },
   "outputs": [],
   "source": [
    "# Your code here\n"
   ]
  },
  {
   "cell_type": "markdown",
   "metadata": {},
   "source": [
    "## Scatter plot of trip distance vs. duration. \n",
    "**Task 4** <li> Create a table that contains only weekend trips. Create another that contains only weekday trips.<li> Create a scatter plot of trip distance vs. duration. Plot weekend trips in blue and weekday trips in red.<li> Add a fit line to the graph - I created a helper function called fit() to help you with this - see the example below.<li> Make sure you plots have appropriate labels, tiltes and legends\n",
    "\n",
    "**Question 2** How do the weekend and weekday travel time trends compare?"
   ]
  },
  {
   "cell_type": "code",
   "execution_count": null,
   "metadata": {
    "collapsed": false
   },
   "outputs": [],
   "source": [
    "weekend = sf_taxi.where(sf_taxi.column('day of week')>=5)\n",
    "\n",
    "x, y=  weekend.column(\"dist (miles)\"), weekend.column(\"duration (min)\")\n",
    "plt.scatter(x,y,color='blue', alpha = .2)\n",
    "plt.plot(x,fit(x,y), color='blue', label = 'weekend')\n",
    "\n",
    "\n",
    "# Your code here \n",
    "\n",
    "\n",
    "\n",
    "plt.xlabel('distance (miles)')\n",
    "plt.ylabel('duration (min)')\n",
    "plt.legend()"
   ]
  },
  {
   "cell_type": "code",
   "execution_count": null,
   "metadata": {
    "collapsed": true
   },
   "outputs": [],
   "source": [
    "# Your answers here"
   ]
  },
  {
   "cell_type": "markdown",
   "metadata": {},
   "source": [
    "## Create a scatter plot of midday (11-2pm) weekday trips  vs. evening (5-8pm) weekday trips. \n",
    "Color evening trips in blue, midday trips in red. Add fit lines, label, and legends as above."
   ]
  },
  {
   "cell_type": "code",
   "execution_count": null,
   "metadata": {
    "collapsed": false
   },
   "outputs": [],
   "source": [
    "# Your code here"
   ]
  },
  {
   "cell_type": "markdown",
   "metadata": {},
   "source": [
    "**Question 3** What do you notice about the two trends - how does the midday travel time/mile compare to the evening travel time/mile? Use these linear regression results to predict the time to travel 25 miles in the bay area at midday, and at 6pm. How much do the answers differ by?\n",
    "\n",
    "**Question 4** Notice the two cluster of trips - one around 14 mile trip distance - the other from 1-5 miles. Why do you think these two clusters emerge."
   ]
  },
  {
   "cell_type": "code",
   "execution_count": null,
   "metadata": {
    "collapsed": true
   },
   "outputs": [],
   "source": [
    "# Your answers here"
   ]
  },
  {
   "cell_type": "markdown",
   "metadata": {},
   "source": [
    "## Find the TAZ with the most popular origin\n",
    "**Task 5**\n",
    "<li> Find the most popular taxi trip origin TAZ. <li> Create a scatter plot of all sf trips in grey. Overlay with a scatter plot of only trips that originate at the most popular TAZ.\n",
    "\n",
    "**Question 4** What patterns do you notice? Do trips from the most popular TAZ look similar to trips in the rest of the area? Do you have a guess of what the most popular taxi origin might be?"
   ]
  },
  {
   "cell_type": "code",
   "execution_count": null,
   "metadata": {
    "collapsed": false
   },
   "outputs": [],
   "source": [
    "# Your code here\n",
    "\n"
   ]
  },
  {
   "cell_type": "code",
   "execution_count": null,
   "metadata": {
    "collapsed": false
   },
   "outputs": [],
   "source": [
    "# Your answers here"
   ]
  }
 ],
 "metadata": {
  "kernelspec": {
   "display_name": "Python 3",
   "language": "python",
   "name": "python3"
  },
  "language_info": {
   "codemirror_mode": {
    "name": "ipython",
    "version": 3
   },
   "file_extension": ".py",
   "mimetype": "text/x-python",
   "name": "python",
   "nbconvert_exporter": "python",
   "pygments_lexer": "ipython3",
   "version": "3.4.4"
  }
 },
 "nbformat": 4,
 "nbformat_minor": 0
}
