{
 "cells": [
  {
   "cell_type": "markdown",
   "metadata": {},
   "source": [
    "# Bikeshare Forecast\n"
   ]
  },
  {
   "cell_type": "code",
   "execution_count": 83,
   "metadata": {
    "collapsed": true
   },
   "outputs": [],
   "source": [
    "from datascience import *\n",
    "import datetime\n",
    "import warnings\n",
    "warnings.filterwarnings(\"ignore\")"
   ]
  },
  {
   "cell_type": "markdown",
   "metadata": {},
   "source": [
    "##  Bike rentals data for 2011"
   ]
  },
  {
   "cell_type": "code",
   "execution_count": 84,
   "metadata": {
    "collapsed": false,
    "scrolled": true
   },
   "outputs": [],
   "source": [
    "bikeData = Table.read_table('data/bikes_2011.csv')"
   ]
  },
  {
   "cell_type": "markdown",
   "metadata": {},
   "source": [
    "### The data table contain the following variables:\n",
    "\n",
    "- year: year (0: 2011, 1:2012) \n",
    "- month: month (1 to 12) \n",
    "- hour: hour (0 to 23) \n",
    "- holiday: if the day is a holiday or not \n",
    "- weekday: day of the week, 0 (Sunday) to 6 (Saturday) \n",
    "- working: 1 if a day is neither weekend nor holiday, 0 otherwise. \n",
    "- weather_type : \n",
    " \t1: Clear, Few clouds, Partly cloudy\n",
    " \t2: Mist, Cloudy \n",
    " \t3: Light Snow, Thunderstorm\n",
    " \t4: Heavy Rain, Ice Pallets, Thunderstorm, Mist, Snow, Fog, Apocalypse \n",
    "- temp: temperature in Celsius. \n",
    "- feels_like: “feels like” temperature in Celsius (accounting for wind chill and humidity)\n",
    "- humidity: humidity \n",
    "- windspeed: wind speed. \n",
    "\n",
    "### Finally, the dependent variable is:\n",
    "- count: total count of bikes rented"
   ]
  },
  {
   "cell_type": "code",
   "execution_count": 85,
   "metadata": {
    "collapsed": false
   },
   "outputs": [
    {
     "data": {
      "text/html": [
       "<table border=\"1\" class=\"dataframe\">\n",
       "    <thead>\n",
       "        <tr>\n",
       "            <th>date</th> <th>year</th> <th>month</th> <th>hour</th> <th>holiday</th> <th>weekday</th> <th>working</th> <th>weather_type</th> <th>temp</th> <th>feels_like</th> <th>humidity</th> <th>windspeed</th> <th>count</th>\n",
       "        </tr>\n",
       "    </thead>\n",
       "    <tbody>\n",
       "        <tr>\n",
       "            <td>1/1/11</td> <td>0   </td> <td>1    </td> <td>0   </td> <td>0      </td> <td>6      </td> <td>0      </td> <td>1           </td> <td>9.02 </td> <td>14.6829   </td> <td>0.81    </td> <td>0        </td> <td>16   </td>\n",
       "        </tr>\n",
       "    </tbody>\n",
       "        <tr>\n",
       "            <td>1/1/11</td> <td>0   </td> <td>1    </td> <td>1   </td> <td>0      </td> <td>6      </td> <td>0      </td> <td>1           </td> <td>9.02 </td> <td>13.9077   </td> <td>0.8     </td> <td>0        </td> <td>40   </td>\n",
       "        </tr>\n",
       "    </tbody>\n",
       "        <tr>\n",
       "            <td>1/1/11</td> <td>0   </td> <td>1    </td> <td>2   </td> <td>0      </td> <td>6      </td> <td>0      </td> <td>1           </td> <td>9.02 </td> <td>13.9077   </td> <td>0.8     </td> <td>0        </td> <td>32   </td>\n",
       "        </tr>\n",
       "    </tbody>\n",
       "        <tr>\n",
       "            <td>1/1/11</td> <td>0   </td> <td>1    </td> <td>3   </td> <td>0      </td> <td>6      </td> <td>0      </td> <td>1           </td> <td>9.84 </td> <td>14.6829   </td> <td>0.75    </td> <td>0        </td> <td>13   </td>\n",
       "        </tr>\n",
       "    </tbody>\n",
       "        <tr>\n",
       "            <td>1/1/11</td> <td>0   </td> <td>1    </td> <td>4   </td> <td>0      </td> <td>6      </td> <td>0      </td> <td>1           </td> <td>9.84 </td> <td>14.6829   </td> <td>0.75    </td> <td>0        </td> <td>1    </td>\n",
       "        </tr>\n",
       "    </tbody>\n",
       "        <tr>\n",
       "            <td>1/1/11</td> <td>0   </td> <td>1    </td> <td>5   </td> <td>0      </td> <td>6      </td> <td>0      </td> <td>2           </td> <td>9.84 </td> <td>13.1376   </td> <td>0.75    </td> <td>6.0032   </td> <td>1    </td>\n",
       "        </tr>\n",
       "    </tbody>\n",
       "        <tr>\n",
       "            <td>1/1/11</td> <td>0   </td> <td>1    </td> <td>6   </td> <td>0      </td> <td>6      </td> <td>0      </td> <td>1           </td> <td>9.02 </td> <td>13.9077   </td> <td>0.8     </td> <td>0        </td> <td>2    </td>\n",
       "        </tr>\n",
       "    </tbody>\n",
       "        <tr>\n",
       "            <td>1/1/11</td> <td>0   </td> <td>1    </td> <td>7   </td> <td>0      </td> <td>6      </td> <td>0      </td> <td>1           </td> <td>8.2  </td> <td>13.1376   </td> <td>0.86    </td> <td>0        </td> <td>3    </td>\n",
       "        </tr>\n",
       "    </tbody>\n",
       "        <tr>\n",
       "            <td>1/1/11</td> <td>0   </td> <td>1    </td> <td>8   </td> <td>0      </td> <td>6      </td> <td>0      </td> <td>1           </td> <td>9.84 </td> <td>14.6829   </td> <td>0.75    </td> <td>0        </td> <td>8    </td>\n",
       "        </tr>\n",
       "    </tbody>\n",
       "        <tr>\n",
       "            <td>1/1/11</td> <td>0   </td> <td>1    </td> <td>9   </td> <td>0      </td> <td>6      </td> <td>0      </td> <td>1           </td> <td>13.12</td> <td>17.7735   </td> <td>0.76    </td> <td>0        </td> <td>14   </td>\n",
       "        </tr>\n",
       "    </tbody>\n",
       "</table>\n",
       "<p>... (8635 rows omitted)</p"
      ],
      "text/plain": [
       "date   | year | month | hour | holiday | weekday | working | weather_type | temp  | feels_like | humidity | windspeed | count\n",
       "1/1/11 | 0    | 1     | 0    | 0       | 6       | 0       | 1            | 9.02  | 14.6829    | 0.81     | 0         | 16\n",
       "1/1/11 | 0    | 1     | 1    | 0       | 6       | 0       | 1            | 9.02  | 13.9077    | 0.8      | 0         | 40\n",
       "1/1/11 | 0    | 1     | 2    | 0       | 6       | 0       | 1            | 9.02  | 13.9077    | 0.8      | 0         | 32\n",
       "1/1/11 | 0    | 1     | 3    | 0       | 6       | 0       | 1            | 9.84  | 14.6829    | 0.75     | 0         | 13\n",
       "1/1/11 | 0    | 1     | 4    | 0       | 6       | 0       | 1            | 9.84  | 14.6829    | 0.75     | 0         | 1\n",
       "1/1/11 | 0    | 1     | 5    | 0       | 6       | 0       | 2            | 9.84  | 13.1376    | 0.75     | 6.0032    | 1\n",
       "1/1/11 | 0    | 1     | 6    | 0       | 6       | 0       | 1            | 9.02  | 13.9077    | 0.8      | 0         | 2\n",
       "1/1/11 | 0    | 1     | 7    | 0       | 6       | 0       | 1            | 8.2   | 13.1376    | 0.86     | 0         | 3\n",
       "1/1/11 | 0    | 1     | 8    | 0       | 6       | 0       | 1            | 9.84  | 14.6829    | 0.75     | 0         | 8\n",
       "1/1/11 | 0    | 1     | 9    | 0       | 6       | 0       | 1            | 13.12 | 17.7735    | 0.76     | 0         | 14\n",
       "... (8635 rows omitted)"
      ]
     },
     "execution_count": 85,
     "metadata": {},
     "output_type": "execute_result"
    }
   ],
   "source": [
    "bikeData"
   ]
  },
  {
   "cell_type": "markdown",
   "metadata": {},
   "source": [
    "### Day of the month\n",
    "\n",
    "The day of the month is not in the original data table. It can be a useful variable to process and plot the data, so we will add it to the table."
   ]
  },
  {
   "cell_type": "code",
   "execution_count": 86,
   "metadata": {
    "collapsed": false
   },
   "outputs": [],
   "source": [
    "def get_day(s): \n",
    "    return datetime.datetime.strptime(s, \"%m/%d/%y\").day\n",
    "\n",
    "bikeData['day'] = bikeData.apply(lambda date: get_day(date), ['date'])"
   ]
  },
  {
   "cell_type": "markdown",
   "metadata": {},
   "source": [
    "### Looking at one day of data\n",
    "\n",
    "Let us see how the number of rentals varies during a day."
   ]
  },
  {
   "cell_type": "code",
   "execution_count": 87,
   "metadata": {
    "collapsed": false
   },
   "outputs": [],
   "source": [
    "def get_one_day_of_bike_counts(month=1, day=1, plot=False): \n",
    "    \n",
    "    bD = bikeData.where(bikeData['month']==month)  # filter data by month\n",
    "    bDD = bD.where(bD['day']==day) # filter by day of the month\n",
    "    \n",
    "    if plot: # optionally, plot a graph\n",
    "        bDD.select(['hour','count']).plot('hour')\n",
    "    \n",
    "    return bDD"
   ]
  },
  {
   "cell_type": "code",
   "execution_count": 88,
   "metadata": {
    "collapsed": false
   },
   "outputs": [
    {
     "data": {
      "text/html": [
       "<table border=\"1\" class=\"dataframe\">\n",
       "    <thead>\n",
       "        <tr>\n",
       "            <th>date</th> <th>year</th> <th>month</th> <th>hour</th> <th>holiday</th> <th>weekday</th> <th>working</th> <th>weather_type</th> <th>temp</th> <th>feels_like</th> <th>humidity</th> <th>windspeed</th> <th>count</th> <th>day</th>\n",
       "        </tr>\n",
       "    </thead>\n",
       "    <tbody>\n",
       "        <tr>\n",
       "            <td>10/25/11</td> <td>0   </td> <td>10   </td> <td>0   </td> <td>0      </td> <td>2      </td> <td>1      </td> <td>1           </td> <td>18.04</td> <td>22.4094   </td> <td>0.77    </td> <td>8.9981   </td> <td>30   </td> <td>25  </td>\n",
       "        </tr>\n",
       "    </tbody>\n",
       "        <tr>\n",
       "            <td>10/25/11</td> <td>0   </td> <td>10   </td> <td>1   </td> <td>0      </td> <td>2      </td> <td>1      </td> <td>1           </td> <td>18.04</td> <td>22.4094   </td> <td>0.77    </td> <td>8.9981   </td> <td>11   </td> <td>25  </td>\n",
       "        </tr>\n",
       "    </tbody>\n",
       "        <tr>\n",
       "            <td>10/25/11</td> <td>0   </td> <td>10   </td> <td>2   </td> <td>0      </td> <td>2      </td> <td>1      </td> <td>1           </td> <td>17.22</td> <td>21.6342   </td> <td>0.82    </td> <td>8.9981   </td> <td>5    </td> <td>25  </td>\n",
       "        </tr>\n",
       "    </tbody>\n",
       "        <tr>\n",
       "            <td>10/25/11</td> <td>0   </td> <td>10   </td> <td>3   </td> <td>0      </td> <td>2      </td> <td>1      </td> <td>1           </td> <td>16.4 </td> <td>20.8641   </td> <td>0.87    </td> <td>0        </td> <td>4    </td> <td>25  </td>\n",
       "        </tr>\n",
       "    </tbody>\n",
       "        <tr>\n",
       "            <td>10/25/11</td> <td>0   </td> <td>10   </td> <td>4   </td> <td>0      </td> <td>2      </td> <td>1      </td> <td>1           </td> <td>15.58</td> <td>20.0889   </td> <td>0.87    </td> <td>8.9981   </td> <td>5    </td> <td>25  </td>\n",
       "        </tr>\n",
       "    </tbody>\n",
       "        <tr>\n",
       "            <td>10/25/11</td> <td>0   </td> <td>10   </td> <td>5   </td> <td>0      </td> <td>2      </td> <td>1      </td> <td>1           </td> <td>15.58</td> <td>20.0889   </td> <td>0.87    </td> <td>8.9981   </td> <td>24   </td> <td>25  </td>\n",
       "        </tr>\n",
       "    </tbody>\n",
       "        <tr>\n",
       "            <td>10/25/11</td> <td>0   </td> <td>10   </td> <td>6   </td> <td>0      </td> <td>2      </td> <td>1      </td> <td>1           </td> <td>15.58</td> <td>20.0889   </td> <td>0.82    </td> <td>7.0015   </td> <td>98   </td> <td>25  </td>\n",
       "        </tr>\n",
       "    </tbody>\n",
       "        <tr>\n",
       "            <td>10/25/11</td> <td>0   </td> <td>10   </td> <td>7   </td> <td>0      </td> <td>2      </td> <td>1      </td> <td>1           </td> <td>16.4 </td> <td>20.8641   </td> <td>0.76    </td> <td>12.998   </td> <td>314  </td> <td>25  </td>\n",
       "        </tr>\n",
       "    </tbody>\n",
       "        <tr>\n",
       "            <td>10/25/11</td> <td>0   </td> <td>10   </td> <td>8   </td> <td>0      </td> <td>2      </td> <td>1      </td> <td>1           </td> <td>18.04</td> <td>22.4094   </td> <td>0.72    </td> <td>0        </td> <td>408  </td> <td>25  </td>\n",
       "        </tr>\n",
       "    </tbody>\n",
       "        <tr>\n",
       "            <td>10/25/11</td> <td>0   </td> <td>10   </td> <td>9   </td> <td>0      </td> <td>2      </td> <td>1      </td> <td>1           </td> <td>19.68</td> <td>23.9547   </td> <td>0.55    </td> <td>15.0013  </td> <td>223  </td> <td>25  </td>\n",
       "        </tr>\n",
       "    </tbody>\n",
       "</table>\n",
       "<p>... (14 rows omitted)</p"
      ],
      "text/plain": [
       "date     | year | month | hour | holiday | weekday | working | weather_type | temp  | feels_like | humidity | windspeed | count | day\n",
       "10/25/11 | 0    | 10    | 0    | 0       | 2       | 1       | 1            | 18.04 | 22.4094    | 0.77     | 8.9981    | 30    | 25\n",
       "10/25/11 | 0    | 10    | 1    | 0       | 2       | 1       | 1            | 18.04 | 22.4094    | 0.77     | 8.9981    | 11    | 25\n",
       "10/25/11 | 0    | 10    | 2    | 0       | 2       | 1       | 1            | 17.22 | 21.6342    | 0.82     | 8.9981    | 5     | 25\n",
       "10/25/11 | 0    | 10    | 3    | 0       | 2       | 1       | 1            | 16.4  | 20.8641    | 0.87     | 0         | 4     | 25\n",
       "10/25/11 | 0    | 10    | 4    | 0       | 2       | 1       | 1            | 15.58 | 20.0889    | 0.87     | 8.9981    | 5     | 25\n",
       "10/25/11 | 0    | 10    | 5    | 0       | 2       | 1       | 1            | 15.58 | 20.0889    | 0.87     | 8.9981    | 24    | 25\n",
       "10/25/11 | 0    | 10    | 6    | 0       | 2       | 1       | 1            | 15.58 | 20.0889    | 0.82     | 7.0015    | 98    | 25\n",
       "10/25/11 | 0    | 10    | 7    | 0       | 2       | 1       | 1            | 16.4  | 20.8641    | 0.76     | 12.998    | 314   | 25\n",
       "10/25/11 | 0    | 10    | 8    | 0       | 2       | 1       | 1            | 18.04 | 22.4094    | 0.72     | 0         | 408   | 25\n",
       "10/25/11 | 0    | 10    | 9    | 0       | 2       | 1       | 1            | 19.68 | 23.9547    | 0.55     | 15.0013   | 223   | 25\n",
       "... (14 rows omitted)"
      ]
     },
     "execution_count": 88,
     "metadata": {},
     "output_type": "execute_result"
    },
    {
     "data": {
      "image/png": "[encoded data removed]",
      "text/plain": [
       "<matplotlib.figure.Figure at 0x7fd45487ba58>"
      ]
     },
     "metadata": {},
     "output_type": "display_data"
    }
   ],
   "source": [
    "get_one_day_of_bike_counts(month=10, day = 25, plot=True)"
   ]
  },
  {
   "cell_type": "code",
   "execution_count": null,
   "metadata": {
    "collapsed": true
   },
   "outputs": [],
   "source": []
  }
 ],
 "metadata": {
  "kernelspec": {
   "display_name": "Python 3",
   "language": "python",
   "name": "python3"
  },
  "language_info": {
   "codemirror_mode": {
    "name": "ipython",
    "version": 3
   },
   "file_extension": ".py",
   "mimetype": "text/x-python",
   "name": "python",
   "nbconvert_exporter": "python",
   "pygments_lexer": "ipython3",
   "version": "3.4.4"
  }
 },
 "nbformat": 4,
 "nbformat_minor": 0
}
