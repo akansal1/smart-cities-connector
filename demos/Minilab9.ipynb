{
 "cells": [
  {
   "cell_type": "code",
   "execution_count": null,
   "metadata": {
    "collapsed": true
   },
   "outputs": [],
   "source": [
    "%matplotlib inline\n",
    "from datascience import *\n",
    "import numpy as np\n",
    "import matplotlib.pyplot as plt"
   ]
  },
  {
   "cell_type": "markdown",
   "metadata": {},
   "source": [
    "## A look at CA energy data\n",
    "In California, energy and environmental policy initiatives are driving electric grid changes. Key initiatives\n",
    "include the following:\n",
    "<li>33 percent of retail electricity from renewable power by 2020, and 50% renewable by 2030; <li>greenhouse gas emissions reduction goal to 1990 levels by 2020;<li>regulations in the next 4-9 years requiring power plants that use coastal water for cooling to either repower, retrofit or retire; <li>policies to increase distributed generation; and <li>an executive order for 1.5 million zero emission vehicles by 2025.\n",
    "\n",
    "Sources: https://www.caiso.com/Documents/FlexibleResourcesHelpRenewables_FastFacts.pdf\n",
    "    http://www.energy.ca.gov/renewables/tracking_progress/documents/renewable.pdf\n",
    "\n",
    "These initiatives are great, but can provide some real challenges when it comes to implementation. Why?\n",
    "1. For the grid to function correctly, the energy supplied must exactly equal the energy demand at all times. If energy generation does not equal demand, the grid can have failures and blackouts. \n",
    "2. Over generation is as bad as under generation. \n",
    "3. The grid does not deal well with large/rapid fluctuations in energy usage\n",
    "\n",
    "Accurate predictions of demand and prediction of generation from renewable sources is crucial to stabilizing the grid. We have provided data on hourly energy demand for the state of California as well as solar and wind energy generation for the state for the month of March 2016 from [CA ISO](http://oasis.caiso.com/). In this minilab we will explore the energy datasets and will explore some of the challenges with reaching the initiatives.\n"
   ]
  },
  {
   "cell_type": "code",
   "execution_count": null,
   "metadata": {
    "collapsed": false
   },
   "outputs": [],
   "source": [
    "ca_energy_demand = Table.read_table('data/March2016_CA_energy_demand.csv')\n",
    "solar = Table.read_table('data/March2016_CA_gen_solar.csv')\n",
    "wind = Table.read_table('data/March2016_CA_gen_wind.csv')"
   ]
  },
  {
   "cell_type": "markdown",
   "metadata": {},
   "source": [
    "## Part 1 - visualizing a week of data\n",
    "**Tasks:**\n",
    "<li> Plot energy demand ('MW') vs. 'INDEX' for the first week of March (hint you can use tables.take() to take only certain rows) <li> Plot solar energy generation ('MW') vs. 'INDEX' for the first week of March  <li> Plot wind energy generation ('MW') vs. 'INDEX' for the first week of March\n",
    "\n",
    "**Questions:** \n",
    "<li> What's the min/max energy used per hour in this week? <li> Is more energy used on weekends or weekdays? <li> What's the min/max solar energy produced per hour in this week? <li> Which day appears to be least sunny? What's the max solar energy produced on this day? <li> What's the min/max wind energy produced per hour in this week? <li> How would you describe the wind energy trend over the week?"
   ]
  },
  {
   "cell_type": "code",
   "execution_count": null,
   "metadata": {
    "collapsed": false
   },
   "outputs": [],
   "source": [
    "# Your code here\n",
    "\n"
   ]
  },
  {
   "cell_type": "code",
   "execution_count": null,
   "metadata": {
    "collapsed": true
   },
   "outputs": [],
   "source": [
    "# Answer questions here!"
   ]
  },
  {
   "cell_type": "markdown",
   "metadata": {},
   "source": [
    "## Plot mean hourly solar and wind energy generation and mean hourly energy demand\n",
    "**Tasks**<li> For each of solar, wind, and ca_energy_demand, **group** by hour and save the average energy consumption/generation per hour (np.mean). Save the results as solar_avg_byhour, wind_avg_by_hour, and demand_avg_byhour. <li> Plot the average energy wind generation, solar generation, and consumption vs. hour for the month of March. "
   ]
  },
  {
   "cell_type": "code",
   "execution_count": null,
   "metadata": {
    "collapsed": false
   },
   "outputs": [],
   "source": [
    "#Your code here\n",
    "\n"
   ]
  },
  {
   "cell_type": "markdown",
   "metadata": {},
   "source": [
    "## Plot the standard deviation of hourly energy generation and hourly energy demand\n",
    "\n",
    "**Tasks** <li> Again group by hour, but now save the standard deviation MW. Save results as solar_std_byhour, wind_std_byhour, and demand_std_byhour. <li> Plot the standard deviation of wind generation, solar generation, and consumption vs. hour for the month of March. <li> **Question:** Which source - wind or solar, has more variation?\n"
   ]
  },
  {
   "cell_type": "code",
   "execution_count": null,
   "metadata": {
    "collapsed": false
   },
   "outputs": [],
   "source": [
    "# Your code here\n",
    "\n"
   ]
  },
  {
   "cell_type": "markdown",
   "metadata": {},
   "source": [
    "## Mean +/- standard deviation\n",
    "**Task**\n",
    "1. Plot mean +/- standard devation per hour. (note you will have to use plt.plot to plot both + std and - std in the same graph). Plot solar, wind, and demand each in their own window. Use plt.figure() to creates a new plot window. "
   ]
  },
  {
   "cell_type": "code",
   "execution_count": null,
   "metadata": {
    "collapsed": false
   },
   "outputs": [],
   "source": [
    "# Your code here\n"
   ]
  },
  {
   "cell_type": "markdown",
   "metadata": {},
   "source": [
    "## CA energy goals\n",
    "As mentioned above, CA has a goal of producing 33% renewables by 2030.\n",
    "**Questions:** \n",
    "<li> How are we doing on this goal - how much of our grid's energy came from renewable sources for March 2016?<li> What percentage of renewables comes from wind? what percentage from solar?"
   ]
  },
  {
   "cell_type": "code",
   "execution_count": null,
   "metadata": {
    "collapsed": false
   },
   "outputs": [],
   "source": [
    "# your code/answer here\n"
   ]
  },
  {
   "cell_type": "markdown",
   "metadata": {},
   "source": [
    "## Energy from non-renewable sources:\n",
    "**Tasks**<li> Add a column to demand_avg_by_hour called 'non-renewable MW' that contains the average hourly MW that is not satisfied by renewables. <li> Plot the average non-renewable energy requirement vs. hour. \n",
    "\n",
    "**Questions** <li> Brifly describe the trend - what hour is the peak, what hour is the minimum, is it relatively flat? <li> Given that the grid does not handle large/rapid fluctuations in energy, do you think reaching the 2020 energy predictions might be problematic? Explain."
   ]
  },
  {
   "cell_type": "code",
   "execution_count": null,
   "metadata": {
    "collapsed": false
   },
   "outputs": [],
   "source": [
    "# Your code here\n"
   ]
  },
  {
   "cell_type": "code",
   "execution_count": null,
   "metadata": {
    "collapsed": true
   },
   "outputs": [],
   "source": [
    "# Answer questions here."
   ]
  }
 ],
 "metadata": {
  "kernelspec": {
   "display_name": "Python 3",
   "language": "python",
   "name": "python3"
  },
  "language_info": {
   "codemirror_mode": {
    "name": "ipython",
    "version": 3
   },
   "file_extension": ".py",
   "mimetype": "text/x-python",
   "name": "python",
   "nbconvert_exporter": "python",
   "pygments_lexer": "ipython3",
   "version": "3.4.4"
  }
 },
 "nbformat": 4,
 "nbformat_minor": 0
}
