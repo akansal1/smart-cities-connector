{
 "cells": [
  {
   "cell_type": "markdown",
   "metadata": {},
   "source": [
    "# Smart-cities-connector demo notebook\n",
    "\n",
    "This notebook contains traffic counts going westbound over the Bay bridge. The data comes from http://pems.dot.ca.gov/. This data can be useful for planning purposes and for incident detection.\n",
    "\n",
    "\n",
    "First we need to import a few libraries to process the data. Click in the box below and press \"Shift\"+\"Enter\" to run the code."
   ]
  },
  {
   "cell_type": "code",
   "execution_count": null,
   "metadata": {
    "collapsed": false
   },
   "outputs": [],
   "source": [
    "from datascience import *\n",
    "%matplotlib inline\n",
    "import numpy as np\n",
    "import matplotlib.pyplot as plots\n",
    "import matplotlib.dates as mdates\n",
    "plots.style.use('fivethirtyeight')\n",
    "import pandas as pd\n",
    "import warnings\n",
    "warnings.filterwarnings(\"ignore\")"
   ]
  },
  {
   "cell_type": "markdown",
   "metadata": {},
   "source": [
    "## Reading the data\n",
    "Next, we read in a  file called pems_output.csv that has traffic counts by hour for each lane of the bay bridge for one week from 1/14/2016 to 1/21/2016. We will save the text from pems_output.csv into a table called data. Press \"Shift\"+\"Enter\" in the box below to run the code and see what the data table looks like."
   ]
  },
  {
   "cell_type": "code",
   "execution_count": null,
   "metadata": {
    "collapsed": false
   },
   "outputs": [],
   "source": [
    "data = Table.read_table('data/pems_output.csv')\n",
    "\n",
    "data"
   ]
  },
  {
   "cell_type": "markdown",
   "metadata": {},
   "source": [
    "## Plotting the data\n",
    "If we want to plot the total traffic volume (on all lanes) over this week we would run the following. \n",
    "### First using the datascience plot function:"
   ]
  },
  {
   "cell_type": "code",
   "execution_count": null,
   "metadata": {
    "collapsed": false
   },
   "outputs": [],
   "source": [
    "# Reminder the '#' indicates that this line is a comment.\n",
    "# First, the column titled 'Hour' above needs to be interpreted as a datetime object.\n",
    "data['date'] = pd.to_datetime(data['Hour'])\n",
    "\n",
    "# the datascience package has a built in plot function - we can use this the data.select() function\n",
    "# to choose the columns we want to plot. Then use the .plot() function to plot the data\n",
    "data.select(['date','Flow (Veh/Hour)']).plot('date')\n"
   ]
  },
  {
   "cell_type": "markdown",
   "metadata": {},
   "source": [
    "### Next using matplotlib - a python package that helps make custom plots\n",
    "While the built-in data-science plot function is convenient, by default the date column prints in units of seconds, rather than printing 'mm/dd/yyyy'. We need to do a little bit of manipulation to process the date field correctly. The code below includes a little bit of custom code to clean up the x-axis"
   ]
  },
  {
   "cell_type": "code",
   "execution_count": null,
   "metadata": {
    "collapsed": false
   },
   "outputs": [],
   "source": [
    "plots.gca().xaxis.set_major_formatter(mdates.DateFormatter('%m/%d/%Y'))\n",
    "plots.gcf().autofmt_xdate()\n",
    "\n",
    "plots.plot(data['date'],data['Flow (Veh/Hour)'])\n",
    "plots.ylabel('Flow (Veh/Hour)')"
   ]
  },
  {
   "cell_type": "markdown",
   "metadata": {},
   "source": [
    "## Seeing patterns\n",
    "\n",
    "What patterns do you see in the traffic flow data above. Why do you think these patterns occur?\n",
    "\n",
    "Can you recognize a difference between weekend days and weekdays? Note that a holiday (MLK day) also falls in this time period. "
   ]
  },
  {
   "cell_type": "code",
   "execution_count": null,
   "metadata": {
    "collapsed": true
   },
   "outputs": [],
   "source": [
    "# write a response to the above questions here:\n",
    "\n",
    "\n"
   ]
  },
  {
   "cell_type": "markdown",
   "metadata": {},
   "source": [
    "## Comparing the counts in different lanes\n",
    "We can also compare traffic volumes in different lanes. Running the code below will show the traffic volumes in lane 1 and lane 2. Modify the code below to plot the traffic in each lane 1-5?\n",
    "\n",
    "Which lanes have the highest traffic volumes. Which have the lowest traffic volumes?\n"
   ]
  },
  {
   "cell_type": "code",
   "execution_count": null,
   "metadata": {
    "collapsed": false
   },
   "outputs": [],
   "source": [
    "plots.gca().xaxis.set_major_formatter(mdates.DateFormatter('%m/%d/%Y'))\n",
    "plots.gcf().autofmt_xdate()\n",
    "plots.plot(data['date'],data['Lane 1 Flow (Veh/Hour)'],label='Lane 1')\n",
    "plots.plot(data['date'],data['Lane 2 Flow (Veh/Hour)'],label='Lane 2')\n",
    "# To add lane 3, copy and paste the above line. Change 'Lane 2 Flow (Veh/Hour)' \n",
    "# to 'Lane 3 Flow (Veh/Hour)'. Also change the label!\n",
    "\n",
    "\n",
    "\n",
    "plots.ylabel('Flow (Veh/Hour)')\n",
    "plots.legend(bbox_to_anchor=(0., 1.02, 1., .102), loc=3, ncol=2)\n"
   ]
  },
  {
   "cell_type": "code",
   "execution_count": null,
   "metadata": {
    "collapsed": true
   },
   "outputs": [],
   "source": [
    "# Comment here on which lanes have the highest and lowest traffic volumes. Why do you think this might be?\n"
   ]
  },
  {
   "cell_type": "markdown",
   "metadata": {},
   "source": [
    "## Visualizing the data in multiple ways.\n",
    "\n",
    "We can choose different ways to display the data, for example we may want to look at the spread of traffic flows vs. hour of the day. In this case a scatter plot may be more helpful. Run the code below to see a scatter plot of veh/hour vs. time of day"
   ]
  },
  {
   "cell_type": "code",
   "execution_count": null,
   "metadata": {
    "collapsed": false
   },
   "outputs": [],
   "source": [
    "data['Hour of the day'] = pd.to_datetime(data['Hour']).hour\n",
    "data.select(['Hour of the day','Flow (Veh/Hour)']).scatter('Hour of the day')\n"
   ]
  },
  {
   "cell_type": "markdown",
   "metadata": {},
   "source": [
    "## Incident detection\n",
    "\n",
    "Notice that there seems to be a bit of an outlier at 4pm on the scatter plot above. The same outlier can also be seen as the mysterious dip in traffic volume on January 18th in the plots above. What might cause a dip like this? \n",
    "\n",
    "\n"
   ]
  },
  {
   "cell_type": "code",
   "execution_count": null,
   "metadata": {
    "collapsed": true
   },
   "outputs": [],
   "source": [
    "# Comment here on what might cause a dip in traffic like we see on 1/18\n",
    "\n"
   ]
  },
  {
   "cell_type": "markdown",
   "metadata": {},
   "source": [
    "Why don't we do a little research and see if there is any news about incindents that occurred on 1/18 at about 4:00 that might limit traffic volumes on the bay bridge. After doing some research, do you now have a better idea of what cause the 1/18 dip in traffic volumes?"
   ]
  },
  {
   "cell_type": "code",
   "execution_count": null,
   "metadata": {
    "collapsed": true
   },
   "outputs": [],
   "source": [
    "# Answer here"
   ]
  },
  {
   "cell_type": "markdown",
   "metadata": {},
   "source": [
    "Given what you discovered above, do you think that a local D.O.T. (department of transportation) could use traffic realtime traffic counts to identify traffic incidents?"
   ]
  },
  {
   "cell_type": "code",
   "execution_count": null,
   "metadata": {
    "collapsed": true
   },
   "outputs": [],
   "source": [
    "# Answer here"
   ]
  },
  {
   "cell_type": "markdown",
   "metadata": {},
   "source": [
    "## Submitting this lab\n",
    "On the top of this notebook click \"File\" --> \"download as\" --> \"ipython notebook\". This will download a copy of this .ipynb file on your computer. Submit this lab on bcourses. This lab will not be graded, but it will help you to become familiar with the submission process for this course. The lab will also help you with this week's homework!"
   ]
  }
 ],
 "metadata": {
  "kernelspec": {
   "display_name": "Python 3",
   "language": "python",
   "name": "python3"
  },
  "language_info": {
   "codemirror_mode": {
    "name": "ipython",
    "version": 3
   },
   "file_extension": ".py",
   "mimetype": "text/x-python",
   "name": "python",
   "nbconvert_exporter": "python",
   "pygments_lexer": "ipython3",
   "version": "3.4.4"
  }
 },
 "nbformat": 4,
 "nbformat_minor": 0
}
