{
 "cells": [
  {
   "cell_type": "markdown",
   "metadata": {},
   "source": [
    "# Minilab 6 - SF Taxi data\n",
    "\n",
    "In this minilab we will begin to use [linear regression](https://en.wikipedia.org/wiki/Linear_regression) to further look at trends in datasets. We will explore how we can use linear regression to make predictions of future \n",
    "\n",
    "\n",
    "The dataset is San Francisco Taxi data from 9/1/2012 to 9/17/2012. The dataset consists of 50,000 taxi trips taken in the Bay Area during that time period. For each trip we are given the departure time, arrival time, passenger fare, departure lat/lon coordinates, arrival lat/lon coordinates, departure taz and arrival taz. "
   ]
  },
  {
   "cell_type": "code",
   "execution_count": 1,
   "metadata": {
    "collapsed": true
   },
   "outputs": [],
   "source": [
    "from datascience import *\n",
    "import datetime\n",
    "import matplotlib.pyplot as plt\n",
    "import numpy as np\n",
    "import warnings\n",
    "warnings.filterwarnings(\"ignore\")"
   ]
  },
  {
   "cell_type": "code",
   "execution_count": 2,
   "metadata": {
    "collapsed": false
   },
   "outputs": [
    {
     "data": {
      "text/html": [
       "<table border=\"1\" class=\"dataframe\">\n",
       "    <thead>\n",
       "        <tr>\n",
       "            <th>id</th> <th>departure time</th> <th>arrival time</th> <th>fare ($)</th> <th>num</th> <th>dep lon</th> <th>dep lat</th> <th>arr lon</th> <th>arr lat</th> <th>deptaz</th> <th>arrtaz</th> <th>dist (miles)</th>\n",
       "        </tr>\n",
       "    </thead>\n",
       "    <tbody>\n",
       "        <tr>\n",
       "            <td>0   </td> <td>9/1/12 0:11   </td> <td>9/1/12 0:20 </td> <td>13.2    </td> <td>1   </td> <td>-122.414</td> <td>37.8027</td> <td>-122.421</td> <td>37.7854</td> <td>38    </td> <td>30    </td> <td>1.98084     </td>\n",
       "        </tr>\n",
       "    </tbody>\n",
       "        <tr>\n",
       "            <td>1   </td> <td>9/1/12 0:23   </td> <td>9/1/12 0:31 </td> <td>10.65   </td> <td>1   </td> <td>-122.42 </td> <td>37.7861</td> <td>-122.435</td> <td>37.7622</td> <td>30    </td> <td>94    </td> <td>2.40224     </td>\n",
       "        </tr>\n",
       "    </tbody>\n",
       "        <tr>\n",
       "            <td>2   </td> <td>9/1/12 0:45   </td> <td>9/1/12 0:49 </td> <td>9       </td> <td>1   </td> <td>-122.415</td> <td>37.7747</td> <td>-122.408</td> <td>37.7826</td> <td>10    </td> <td>11    </td> <td>0.479348    </td>\n",
       "        </tr>\n",
       "    </tbody>\n",
       "        <tr>\n",
       "            <td>3   </td> <td>9/1/12 0:41   </td> <td>9/1/12 0:54 </td> <td>13.95   </td> <td>2   </td> <td>-122.419</td> <td>37.8066</td> <td>-122.415</td> <td>37.7781</td> <td>40    </td> <td>10    </td> <td>2.12241     </td>\n",
       "        </tr>\n",
       "    </tbody>\n",
       "        <tr>\n",
       "            <td>4   </td> <td>9/1/12 1:09   </td> <td>9/1/12 1:13 </td> <td>7.35    </td> <td>1   </td> <td>-122.43 </td> <td>37.7978</td> <td>-122.418</td> <td>37.789 </td> <td>45    </td> <td>32    </td> <td>1.03807     </td>\n",
       "        </tr>\n",
       "    </tbody>\n",
       "        <tr>\n",
       "            <td>5   </td> <td>9/1/12 1:40   </td> <td>9/1/12 1:52 </td> <td>11.75   </td> <td>1   </td> <td>-122.433</td> <td>37.7841</td> <td>-122.411</td> <td>37.787 </td> <td>77    </td> <td>7     </td> <td>0.960851    </td>\n",
       "        </tr>\n",
       "    </tbody>\n",
       "        <tr>\n",
       "            <td>6   </td> <td>9/1/12 2:49   </td> <td>9/1/12 2:51 </td> <td>5.15    </td> <td>1   </td> <td>-122.409</td> <td>37.7856</td> <td>-122.412</td> <td>37.791 </td> <td>7     </td> <td>29    </td> <td>0.414315    </td>\n",
       "        </tr>\n",
       "    </tbody>\n",
       "        <tr>\n",
       "            <td>7   </td> <td>9/1/12 3:29   </td> <td>9/1/12 3:47 </td> <td>43.65   </td> <td>1   </td> <td>-122.403</td> <td>37.7927</td> <td>-122.386</td> <td>37.6181</td> <td>2     </td> <td>239   </td> <td>14.5105     </td>\n",
       "        </tr>\n",
       "    </tbody>\n",
       "        <tr>\n",
       "            <td>8   </td> <td>9/1/12 0:33   </td> <td>9/1/12 0:57 </td> <td>46.75   </td> <td>1   </td> <td>-122.387</td> <td>37.6174</td> <td>-122.407</td> <td>37.7889</td> <td>239   </td> <td>5     </td> <td>14.2747     </td>\n",
       "        </tr>\n",
       "    </tbody>\n",
       "        <tr>\n",
       "            <td>9   </td> <td>9/1/12 4:39   </td> <td>9/1/12 4:43 </td> <td>6.25    </td> <td>1   </td> <td>-122.422</td> <td>37.7977</td> <td>-122.418</td> <td>37.789 </td> <td>34    </td> <td>31    </td> <td>0.685312    </td>\n",
       "        </tr>\n",
       "    </tbody>\n",
       "</table>\n",
       "<p>... (49991 rows omitted)</p"
      ],
      "text/plain": [
       "id   | departure time | arrival time | fare ($) | num  | dep lon  | dep lat | arr lon  | arr lat | deptaz | arrtaz | dist (miles)\n",
       "0    | 9/1/12 0:11    | 9/1/12 0:20  | 13.2     | 1    | -122.414 | 37.8027 | -122.421 | 37.7854 | 38     | 30     | 1.98084\n",
       "1    | 9/1/12 0:23    | 9/1/12 0:31  | 10.65    | 1    | -122.42  | 37.7861 | -122.435 | 37.7622 | 30     | 94     | 2.40224\n",
       "2    | 9/1/12 0:45    | 9/1/12 0:49  | 9        | 1    | -122.415 | 37.7747 | -122.408 | 37.7826 | 10     | 11     | 0.479348\n",
       "3    | 9/1/12 0:41    | 9/1/12 0:54  | 13.95    | 2    | -122.419 | 37.8066 | -122.415 | 37.7781 | 40     | 10     | 2.12241\n",
       "4    | 9/1/12 1:09    | 9/1/12 1:13  | 7.35     | 1    | -122.43  | 37.7978 | -122.418 | 37.789  | 45     | 32     | 1.03807\n",
       "5    | 9/1/12 1:40    | 9/1/12 1:52  | 11.75    | 1    | -122.433 | 37.7841 | -122.411 | 37.787  | 77     | 7      | 0.960851\n",
       "6    | 9/1/12 2:49    | 9/1/12 2:51  | 5.15     | 1    | -122.409 | 37.7856 | -122.412 | 37.791  | 7      | 29     | 0.414315\n",
       "7    | 9/1/12 3:29    | 9/1/12 3:47  | 43.65    | 1    | -122.403 | 37.7927 | -122.386 | 37.6181 | 2      | 239    | 14.5105\n",
       "8    | 9/1/12 0:33    | 9/1/12 0:57  | 46.75    | 1    | -122.387 | 37.6174 | -122.407 | 37.7889 | 239    | 5      | 14.2747\n",
       "9    | 9/1/12 4:39    | 9/1/12 4:43  | 6.25     | 1    | -122.422 | 37.7977 | -122.418 | 37.789  | 34     | 31     | 0.685312\n",
       "... (49991 rows omitted)"
      ]
     },
     "execution_count": 2,
     "metadata": {},
     "output_type": "execute_result"
    }
   ],
   "source": [
    "sf_taxi = Table.read_table('data/SF_taxi_data.csv')\n",
    "sf_taxi"
   ]
  },
  {
   "cell_type": "markdown",
   "metadata": {},
   "source": [
    "## Step one - Adding meaningful columns to our data table\n",
    "The data table is rich, but the inputs are not as useful as they could be. For example we have date/time strings for arrival and departure. We may like to have information on trip duration, rather than a list of start and end times."
   ]
  },
  {
   "cell_type": "markdown",
   "metadata": {},
   "source": [
    "### Computing Trip Duration\n",
    "We can write our own methods to help process the data. For example we can create a method to compute trip duration. First we have to convert the departure time and arrival time into a timestamp, then we can compute the difference. Finally we convert it to minutes. I have written the get_dur() function below.\n",
    "\n",
    "**Task 1** Use the [.apply](http://data8.org/datascience/_autosummary/datascience.tables.Table.apply.html#datascience.tables.Table.apply) method to create a 'trip duration (min)' column in the sf_taxi table.\n"
   ]
  },
  {
   "cell_type": "code",
   "execution_count": 3,
   "metadata": {
    "collapsed": true
   },
   "outputs": [],
   "source": [
    "def get_dur(start,finish): \n",
    "    start_time = datetime.datetime.strptime(start, \"%m/%d/%y %H:%M\")\n",
    "    end_time = datetime.datetime.strptime(finish, \"%m/%d/%y %H:%M\")\n",
    "    return (end_time-start_time).seconds/60."
   ]
  },
  {
   "cell_type": "code",
   "execution_count": 4,
   "metadata": {
    "collapsed": true
   },
   "outputs": [],
   "source": [
    "# Answer key\n",
    "sf_taxi[\"duration (min)\"] = sf_taxi.apply(lambda start, finish: get_dur(start, finish), [\"departure time\", \"arrival time\"])"
   ]
  },
  {
   "cell_type": "markdown",
   "metadata": {},
   "source": [
    "## Scatter Plots of trip duration vs. distance\n",
    "\n",
    "** Task 2** Create a scatter plot of travel time vs. distace. Make sure fit_line is enabled"
   ]
  },
  {
   "cell_type": "code",
   "execution_count": 5,
   "metadata": {
    "collapsed": false
   },
   "outputs": [
    {
     "data": {
      "image/png": "[encoded data removed]",
      "text/plain": [
       "<matplotlib.figure.Figure at 0x7fb409ab6e10>"
      ]
     },
     "metadata": {},
     "output_type": "display_data"
    }
   ],
   "source": [
    "# Answer key\n",
    "sf_taxi.select([\"duration (min)\", \"dist (miles)\"]).scatter(\"dist (miles)\", fit_line=True)"
   ]
  },
  {
   "cell_type": "markdown",
   "metadata": {},
   "source": [
    "### Making inferences\n",
    "** Question 1** Use the linear regression result to predict the time to travel 25 miles in the bay area. Do you think this is a good prediction? Why or why not? \n",
    "What is the travel time for a 5 mile trip? What about a 35 mile trip? Do you think these are good predictions?\n"
   ]
  },
  {
   "cell_type": "markdown",
   "metadata": {},
   "source": [
    "## Segmenting the data.\n",
    "The best fit line above includes all 50,000 trips from a 2+ week period in 2012. This may not be the best representation of the relationship for all trips. The relationship between trip duration and distance traveled on a weekday may be different than that on a weekend, for example. In the cell below I have given you some helper functions that may be useful in segmenting your data. \n",
    "\n",
    "** Task 3** Add a 'start hour' column and a 'day of week', column to the sf_taxi table using the helper functions below."
   ]
  },
  {
   "cell_type": "code",
   "execution_count": 6,
   "metadata": {
    "collapsed": false
   },
   "outputs": [],
   "source": [
    "def get_hour(s): return datetime.datetime.strptime(s, \"%m/%d/%y %H:%M\").hour\n",
    "def get_date(s): return datetime.datetime.strptime(s, \"%m/%d/%y %H:%M\").date()\n",
    "def get_weekday(s): return datetime.datetime.strptime(s, \"%m/%d/%y %H:%M\").date().weekday()\n",
    "# 0 = Monday - 6= Sunday\n",
    "\n",
    "def fit(x,y): return np.poly1d(np.polyfit(x,y,1))(x)"
   ]
  },
  {
   "cell_type": "code",
   "execution_count": null,
   "metadata": {
    "collapsed": false
   },
   "outputs": [],
   "source": [
    "# Answer key\n",
    "sf_taxi['start hour'] = sf_taxi.apply(get_hour, \"departure time\")\n",
    "sf_taxi['date'] = sf_taxi.apply(get_date, \"departure time\")\n",
    "sf_taxi['day of week'] = sf_taxi.apply(get_weekday, \"departure time\")\n"
   ]
  },
  {
   "cell_type": "markdown",
   "metadata": {},
   "source": [
    "## Scatter plot of trip distance vs. duration. \n",
    "**Task 3** <li> Created a table that contains only weekend trips. Create another that contains only weekday trips.<li> Create a scatter plot of trip distance vs. duration. Plot weekend trips in blue and weekday trips in red.<li> Add a fit line to the graph - I created a helper function called fit() to help you with this - see the example below.<li> Make sure you plots have appropriate labels, tiltes and legends\n"
   ]
  },
  {
   "cell_type": "code",
   "execution_count": null,
   "metadata": {
    "collapsed": false
   },
   "outputs": [],
   "source": [
    "weekend = sf_taxi.where(sf_taxi.column('day of week')>=5)\n",
    "weekday = sf_taxi.where(sf_taxi.column('day of week')<5)\n",
    "\n",
    "x, y=  weekend.column(\"dist (miles)\"), weekend.column(\"duration (min)\")\n",
    "plt.scatter(x,y,color='blue', alpha = .2)\n",
    "plt.plot(x,fit(x,y), color='blue', label = 'weekend')\n",
    "\n",
    "# Answer key\n",
    "# x, y=  weekday.column(\"dist (miles)\"), weekday.column(\"duration (min)\")\n",
    "# plt.scatter(x,y,color='blue', alpha = .2)\n",
    "# plt.plot(x,fit(x,y), color='blue', label = 'weekend')\n",
    "\n",
    "plt.xlabel('distance (miles)')\n",
    "plt.ylabel('duration (min)')\n",
    "plt.legend()"
   ]
  },
  {
   "cell_type": "markdown",
   "metadata": {},
   "source": [
    "## Create a scatter plot of midday (11-2pm) weekday trips  vs. evening (5-8pm) weekday trips. \n",
    "Color evening trips in blue, midday trips in red. Add fit lines, label, and legends as above."
   ]
  },
  {
   "cell_type": "code",
   "execution_count": null,
   "metadata": {
    "collapsed": false
   },
   "outputs": [],
   "source": [
    "#Answer key\n",
    "weekday_evening = weekday.where(np.logical_and(weekday.column('start hour')>17,weekday.column('start hour')<20))\n",
    "weekday_midday = weekday.where(np.logical_and(weekday.column('start hour')>11,weekday.column('start hour')<14))\n",
    "\n",
    "x, y=  weekday_evening.column(\"dist (miles)\"), weekday_evening.column(\"duration (min)\")\n",
    "plt.scatter(x,y,color='blue', alpha = .2)\n",
    "plt.plot(x,fit(x,y), color='blue', label = 'evening')\n",
    "\n",
    "x, y=  weekday_midday.column(\"dist (miles)\"), weekday_midday.column(\"duration (min)\")\n",
    "plt.scatter(x,y,color='red', alpha = .2)\n",
    "plt.plot(x,fit(x,y), color='red', label = 'midday')\n",
    "\n",
    "plt.title('Weekday travel time vs. duration')\n",
    "plt.xlabel('distance (miles)')\n",
    "plt.ylabel('duration (min)')\n",
    "plt.legend()"
   ]
  },
  {
   "cell_type": "markdown",
   "metadata": {},
   "source": [
    "**Question 2** What do you notice about the two trends - how does the midday travel time/mile compare to the evening travel time/mile.\n",
    "\n",
    "**Question 3** Notice the two cluster of trips - one around 14 mile trip distance - the other from 1-5 miles. Why do you think these two clusters emerge."
   ]
  },
  {
   "cell_type": "markdown",
   "metadata": {},
   "source": [
    "## Find the TAZ with the most popular origin\n",
    "**Task**\n",
    "<li> Find the most popular taxi trip origin TAZ. <li> Create a scatter plot of all sf trips in grey. Overlay with a scatter plot of only trips that originate at the most popular TAZ.\n",
    "\n",
    "**Question** What patterns do you notice? Do trips from the most popular TAZ look similar to trips in the rest of the area? Do you have a guess of what the most popular taxi origin might be?"
   ]
  },
  {
   "cell_type": "code",
   "execution_count": null,
   "metadata": {
    "collapsed": false
   },
   "outputs": [],
   "source": [
    "# Answer key\n",
    "taz_counts = sf_taxi.group(\"deptaz\")\n",
    "taz_counts.where(\"count\", max(taz_counts[\"count\"]))\n",
    "\n"
   ]
  },
  {
   "cell_type": "code",
   "execution_count": null,
   "metadata": {
    "collapsed": false
   },
   "outputs": [],
   "source": [
    "taz_239 = sf_taxi.where(sf_taxi.column(\"deptaz\")==239)\n",
    "x, y=  sf_taxi.column(\"dist (miles)\"), sf_taxi.column(\"duration (min)\")\n",
    "plt.scatter(x,y,color='grey', alpha = .2, label='All trips')\n",
    "# plt.plot(x,fit(x,y), color='grey', label = 'All trips')\n",
    "\n",
    "x, y=  taz_239.column(\"dist (miles)\"), taz_239.column(\"duration (min)\")\n",
    "plt.scatter(x,y,color='blue', alpha = .2, label='TAZ 239 trips')\n",
    "# plt.plot(x,fit(x,y), color='blue', label = 'TAZ 239 trips')\n",
    "\n",
    "\n",
    "plt.title('Weekday travel time vs. duration')\n",
    "plt.xlabel('')\n",
    "plt.legend()"
   ]
  },
  {
   "cell_type": "code",
   "execution_count": null,
   "metadata": {
    "collapsed": true
   },
   "outputs": [],
   "source": []
  }
 ],
 "metadata": {
  "kernelspec": {
   "display_name": "Python 3",
   "language": "python",
   "name": "python3"
  },
  "language_info": {
   "codemirror_mode": {
    "name": "ipython",
    "version": 3
   },
   "file_extension": ".py",
   "mimetype": "text/x-python",
   "name": "python",
   "nbconvert_exporter": "python",
   "pygments_lexer": "ipython3",
   "version": "3.4.4"
  }
 },
 "nbformat": 4,
 "nbformat_minor": 0
}
