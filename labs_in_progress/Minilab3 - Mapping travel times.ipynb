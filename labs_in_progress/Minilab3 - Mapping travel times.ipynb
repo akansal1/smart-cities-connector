{
 "cells": [
  {
   "cell_type": "markdown",
   "metadata": {},
   "source": [
    "# Minilab 3 - Mapping TAZ travel times\n",
    "\n",
    "In this lab we will play with some data from the Metropolitan Transportation Comission on travel time from one Traffic Analysis Zone (TAZ) to another. We will use a mapping tool called folium to create a graphical representation of travel times throughout the area.\n"
   ]
  },
  {
   "cell_type": "code",
   "execution_count": null,
   "metadata": {
    "collapsed": false
   },
   "outputs": [],
   "source": [
    "import folium\n",
    "import json\n",
    "from datascience import *\n",
    "import pandas as pd"
   ]
  },
  {
   "cell_type": "markdown",
   "metadata": {},
   "source": [
    "## The datasets\n",
    "### MTC travel skims\n",
    "The Metropolitan Transportation Comission (MTC) is the regional transportation planning organization for the Bay Area. They host a database with average travel time, cost, and distance from one traffic analysis zone (TAZ) to all other TAZs in the Bay Area. The files have data for driving alone, car pooling, walking to transit, driving to transit, walking, and biking. \n",
    "\n",
    "We have pre-processed the data from the morning commute to include only TAZs around San Francisco, Oakland and Berkeley. The files with inter-TAZ travel time, travel cost, and travel distance are saved with the following filepaths 'data/sf_oak_TimeSkims_AM.csv', 'data/sf_oak_CostSkims_AM.csv' and 'data/sf_oak_DistanceSkims_AM.csv'\n",
    "\n",
    "More info on the dataset can be found here - http://analytics.mtc.ca.gov/foswiki/Main/SimpleSkims. \n",
    "The columns in the data set are below:\n",
    "\n",
    "    orig\tOrigin transportation analysis zone\tShape file\n",
    "    dest\tDestination transportation analysis zone\tShape file\n",
    "    da\t    Door-to-door time for the drive alone travel mode (i.e. single occupant private automobile)\t \n",
    "    daToll\tDoor-to-door time for the drive alone value toll travel mode (those willing to pay to use an HOT lane)\t \n",
    "    s2\t    Door-to-door time for the shared ride 2 travel mode (i.e. double occupant private automobile)\t \n",
    "    s2Toll\tDoor-to-door time for the shared ride 2 value toll travel mode (those willing to pay to use an HOT lane)\n",
    "    s3\t    Door-to-door time for the shared ride 3+ travel mode (i.e. three-or-more occupants traveling in a private vehicle)\t \n",
    "    s3Toll\tDoor-to-door time for the shared ride 3+ value toll travel mode (those willing to pay to use an HOT lane, if scenario policy dictates they must pay)\t \n",
    "    walk\tDoor-to-door time for walking\t \n",
    "    bike\tDoor-to-door time for bicycling\t \n",
    "    wTrnW\tDoor-to-door time for walk to transit to walk paths\t \n",
    "    dTrnW\tDoor-to-door time for drive to transit to walk paths\t \n",
    "    wTrnD\tDoor-to-door time for walk to transit to drive paths (returning home on a park-and-ride tour)\n",
    "\n",
    "(The raw data with all bay area TAZs can be found at https://mtcdrive.app.box.com/2015-03-116)\n",
    "\n",
    "### Bay area TAZ geometry data\n",
    "GeoJSON is a format for encoding a variety of geographic data structures. We have saved a GeoJson file with the Trffic Analysis Zone (TAZ) boundaries for the TAZs around San Francisco, Oakland, and Berkeley. We will use a mapping package called folium to map the TAZs\n",
    "\n",
    "### Read the data\n",
    "Normally we use the Table function to read the dataset, but for this lab we are using a mapping tool and we require the data to be in a Pandas Dataframe. The functionality is **very** similar to the table functionality."
   ]
  },
  {
   "cell_type": "code",
   "execution_count": null,
   "metadata": {
    "collapsed": false
   },
   "outputs": [],
   "source": [
    "# Read the timeskims datafile\n",
    "data = pd.read_csv('data/sf_oak_TimeSkims_AM.csv')\n",
    "#print out the first 5 rows of the data table\n",
    "data.head()"
   ]
  },
  {
   "cell_type": "code",
   "execution_count": null,
   "metadata": {
    "collapsed": false
   },
   "outputs": [],
   "source": [
    "# Read the GeoJson file save the data as a string\n",
    "# json.dumps() dumps the data to a string\n",
    "geojson_data = json.load(open('data/SF_Oak_TAZs.geojson'))\n",
    "geojson_str = json.dumps(geojson_data) \n",
    "\n",
    "# The geojson string contains properties of the TAZ as well as lat-lon coordinates defining \n",
    "# the polygon boundary for each TAZ. Here is a printout of what the geojson looks like.\n",
    "geojson_str"
   ]
  },
  {
   "cell_type": "markdown",
   "metadata": {},
   "source": [
    "## Mapping the TAZs\n",
    "We will use a mapping package called Folium to map the TAZs\n",
    "\n"
   ]
  },
  {
   "cell_type": "code",
   "execution_count": null,
   "metadata": {
    "collapsed": false
   },
   "outputs": [],
   "source": [
    "# Create a folium map object. Set the width, and height of the map image \n",
    "# as well as start zoom level and center location\n",
    "taz_map = folium.Map(width=650, height=500, zoom_start=11,\n",
    "                     location=[37.8062449,-122.371983])\n",
    "\n",
    "# Add the taz geojson data layer to the map using the geo_json() method\n",
    "taz_map.geo_json(geo_str=geojson_str)\n",
    "\n",
    "# Create the map - notice that a file called map.html has been added to your demos folder \n",
    "taz_map.create_map('map.html')\n",
    "\n",
    "#to show the map in-line\n",
    "taz_map"
   ]
  },
  {
   "cell_type": "markdown",
   "metadata": {},
   "source": [
    "## Travel time from one TAZ to all others\n"
   ]
  },
  {
   "cell_type": "code",
   "execution_count": null,
   "metadata": {
    "collapsed": false
   },
   "outputs": [],
   "source": [
    "#choose an origin TAZ\n",
    "origin_taz_id=10\n",
    "\n",
    "# save a new data frame that contains only rows with the origin specified above \n",
    "data_origin = data[data['orig']==origin_taz_id]"
   ]
  },
  {
   "cell_type": "markdown",
   "metadata": {},
   "source": [
    "Folium allows us to color map the elemets based on data. We will again use folium's geo_json() method, but now we will use additional arguments to color the TAZs based on travel time. \n",
    "We will use the following inputs to the geojson method:\n",
    "\n",
    "    data: Pandas DataFrame or Series, default None\n",
    "        Data to bind to the GeoJSON.\n",
    "    columns: the columns of the dataframe that we will use to color the data\n",
    "    key_on: string, default None\n",
    "        Variable in the GeoJSON file to bind the data to. Must always\n",
    "        start with 'feature' and be in JavaScript objection notation.\n",
    "        Ex: 'feature.id' or 'feature.properties.statename'. \n",
    "    threshold_scale: list, default None\n",
    "        Data range for D3 threshold scale. Defaults to the following range\n",
    "        of quantiles: [0, 0.5, 0.75, 0.85, 0.9], rounded to the nearest\n",
    "        order-of-magnitude integer. Ex: 270 rounds to 200, 5600 to 6000.\n",
    "    fill_color: string, default 'blue'\n",
    "        Area fill color. Can pass a hex code, color name, or if you are\n",
    "        binding data, one of the following color brewer palettes:\n",
    "        'BuGn', 'BuPu', 'GnBu', 'OrRd', 'PuBu', 'PuBuGn', 'PuRd', 'RdPu',\n",
    "        'YlGn', 'YlGnBu', 'YlOrBr', and 'YlOrRd'.\n"
   ]
  },
  {
   "cell_type": "code",
   "execution_count": null,
   "metadata": {
    "collapsed": false
   },
   "outputs": [],
   "source": [
    "traveltime_map = folium.Map(width=650, height=500, zoom_start=11,\n",
    "                            location=[37.8062449,-122.371983])\n",
    "\n",
    "traveltime_map.geo_json(geo_str=geojson_str, data=data_origin,\n",
    "                        columns=['dest', 'da'],\n",
    "                        threshold_scale=[5,10,15,20,25],\n",
    "                        key_on='feature.properties.TAZ1454',\n",
    "                        fill_color='PuBu', fill_opacity=.8)\n",
    "\n",
    "traveltime_map.create_map('map.html')\n",
    "traveltime_map\n",
    "\n"
   ]
  },
  {
   "cell_type": "markdown",
   "metadata": {},
   "source": [
    "## Color the origin TAZ red"
   ]
  },
  {
   "cell_type": "code",
   "execution_count": null,
   "metadata": {
    "collapsed": false,
    "scrolled": false
   },
   "outputs": [],
   "source": [
    "# find origin_taz_id and color it red\n",
    "for i in range(len(geojson_data['features'])):\n",
    "    if (geojson_data['features'][i]['properties']['TAZ1454'] == origin_taz_id):\n",
    "        origin_feature  = geojson_data['features'][i]\n",
    "\n",
    "# create a copy of the geojson data called origin_data. This geojson will only have \n",
    "# one feature, the origin feature. We will replace the origin_data['features'] with\n",
    "# a list containing only this feature\n",
    "\n",
    "origin_data = geojson_data\n",
    "origin_data['features']=[origin_feature]\n",
    "origin_str = json.dumps(origin_data)\n",
    "\n",
    "traveltime_map.geo_json(geo_str=origin_str,fill_color='Red',\n",
    "                       fill_opacity = .8)\n",
    "\n",
    "traveltime_map.create_map('map.html')\n",
    "traveltime_map"
   ]
  },
  {
   "cell_type": "markdown",
   "metadata": {},
   "source": [
    "# Task 1\n",
    "Play with the map. \n",
    " <li>Change the map color scheme.\n",
    " <li>Choose a different TAZ as the origin TAZ\n",
    " <li>Right now average drive alone (da) travel times are displayed. Change the travel mode to walk-transit-walk (wTrnW)\n",
    " <li>Change the color threshold values so that the color transitions happen at appropriate intervals"
   ]
  },
  {
   "cell_type": "markdown",
   "metadata": {},
   "source": [
    "# Task 2\n",
    "What can we learn from these maps\n",
    "For each of the following modes: drive, walk to transit, drive to transit, bike, and walk, do you think a straightline distance from one TAZ to another is a good indicator of travel time? Explain why or why not?\n",
    "\n"
   ]
  },
  {
   "cell_type": "code",
   "execution_count": null,
   "metadata": {
    "collapsed": true
   },
   "outputs": [],
   "source": [
    "# Answer here"
   ]
  },
  {
   "cell_type": "markdown",
   "metadata": {
    "collapsed": false
   },
   "source": [
    "# Task 3\n",
    "For the datasets provided, MTC follows a convention of setting travel time = '-999' in the data table if they have determined that a mode is not feasible. For example, a bike trip from San Francisco to Oakland is not possible because bikes are not allowed accross the Bay Bridge. Similarly some walk distances are determined to be too far to make a trip on foot.\n",
    "\n",
    "Can you figure out how to find the entries that have -999 in the travel time field and make them grey?\n"
   ]
  },
  {
   "cell_type": "markdown",
   "metadata": {
    "collapsed": false,
    "scrolled": true
   },
   "source": [
    "# Task 4\n",
    "We have been looking at travel time from one TAZ to another. As mentioned above MTC also provides info on travel cost and distance from one TAZ to another by mode. Create a folium map of tavel distance from an origin TAZ to all others, using the same procedure as outlined above."
   ]
  }
 ],
 "metadata": {
  "kernelspec": {
   "display_name": "Python 3",
   "language": "python",
   "name": "python3"
  },
  "language_info": {
   "codemirror_mode": {
    "name": "ipython",
    "version": 3
   },
   "file_extension": ".py",
   "mimetype": "text/x-python",
   "name": "python",
   "nbconvert_exporter": "python",
   "pygments_lexer": "ipython3",
   "version": "3.4.4"
  }
 },
 "nbformat": 4,
 "nbformat_minor": 0
}
