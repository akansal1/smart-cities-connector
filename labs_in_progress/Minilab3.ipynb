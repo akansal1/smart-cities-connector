{
 "cells": [
  {
   "cell_type": "markdown",
   "metadata": {},
   "source": [
    "# Minilab 3\n",
    "\n",
    "[[LAB DESCRIPTION HERE]]\n",
    "\n"
   ]
  },
  {
   "cell_type": "code",
   "execution_count": 1,
   "metadata": {
    "collapsed": false
   },
   "outputs": [],
   "source": [
    "import folium\n",
    "import json\n",
    "from datascience import *\n",
    "import pandas as pd"
   ]
  },
  {
   "cell_type": "markdown",
   "metadata": {},
   "source": [
    "## The datasets\n",
    "### MTC travel skims\n",
    "The Metropolitan Transportation Comission (MTC) is the regional transportation planning organization for the Bay Area. They host a database with average travel time, cost, and distance from one traffic analysis zone (TAZ) to all other TAZs in the Bay Area. The files have data for driving alone, car pooling, walking to transit, driving to transit, walking, and biking. \n",
    "\n",
    "We have pre-processed the data from the morning commute to include only TAZs around San Francisco, Oakland and Berkeley. The files with inter-TAZ travel time, travel cost, and travel distance are saved with the following filepaths 'data/sf_oak_TimeSkims_AM.csv', 'data/sf_oak_CostSkims_AM.csv' and 'data/sf_oak_DistanceSkims_AM.csv'\n",
    "\n",
    "More info on the dataset can be found here - http://analytics.mtc.ca.gov/foswiki/Main/SimpleSkims. \n",
    "The columns in the data set are below:\n",
    "\n",
    "    orig\tOrigin transportation analysis zone\tShape file\n",
    "    dest\tDestination transportation analysis zone\tShape file\n",
    "    da\t    Door-to-door time for the drive alone travel mode (i.e. single occupant private automobile)\t \n",
    "    daToll\tDoor-to-door time for the drive alone value toll travel mode (those willing to pay to use an HOT lane)\t \n",
    "    s2\t    Door-to-door time for the shared ride 2 travel mode (i.e. double occupant private automobile)\t \n",
    "    s2Toll\tDoor-to-door time for the shared ride 2 value toll travel mode (those willing to pay to use an HOT lane)\n",
    "    s3\t    Door-to-door time for the shared ride 3+ travel mode (i.e. three-or-more occupants traveling in a private vehicle)\t \n",
    "    s3Toll\tDoor-to-door time for the shared ride 3+ value toll travel mode (those willing to pay to use an HOT lane, if scenario policy dictates they must pay)\t \n",
    "    walk\tDoor-to-door time for walking\t \n",
    "    bike\tDoor-to-door time for bicycling\t \n",
    "    wTrnW\tDoor-to-door time for walk to transit to walk paths\t \n",
    "    dTrnW\tDoor-to-door time for drive to transit to walk paths\t \n",
    "    wTrnD\tDoor-to-door time for walk to transit to drive paths (returning home on a park-and-ride tour)\n",
    "\n",
    "(The raw data with all bay area TAZs can be found at https://mtcdrive.app.box.com/2015-03-116)\n",
    "\n",
    "### Bay area TAZ geometry data\n",
    "GeoJSON is a format for encoding a variety of geographic data structures. We have saved a GeoJson file with the Trffic Analysis Zone (TAZ) boundaries for the TAZs around San Francisco, Oakland, and Berkeley. We will use a mapping toolbox called folium to map the TAZs\n",
    "\n",
    "### Read the data\n",
    "Normally we use the Table function to read the dataset, but for this lab we are using a mapping tool and we require the data to be in a Pandas Dataframe. The functionality is **very** similar to the table functionality."
   ]
  },
  {
   "cell_type": "code",
   "execution_count": 13,
   "metadata": {
    "collapsed": false
   },
   "outputs": [
    {
     "data": {
      "text/html": [
       "<div>\n",
       "<table border=\"1\" class=\"dataframe\">\n",
       "  <thead>\n",
       "    <tr style=\"text-align: right;\">\n",
       "      <th></th>\n",
       "      <th>orig</th>\n",
       "      <th>dest</th>\n",
       "      <th>da</th>\n",
       "      <th>daToll</th>\n",
       "      <th>s2</th>\n",
       "      <th>s2Toll</th>\n",
       "      <th>s3</th>\n",
       "      <th>s3Toll</th>\n",
       "      <th>walk</th>\n",
       "      <th>bike</th>\n",
       "      <th>wTrnW</th>\n",
       "      <th>dTrnW</th>\n",
       "      <th>wTrnD</th>\n",
       "    </tr>\n",
       "  </thead>\n",
       "  <tbody>\n",
       "    <tr>\n",
       "      <th>0</th>\n",
       "      <td>1</td>\n",
       "      <td>1</td>\n",
       "      <td>5.92</td>\n",
       "      <td>5.92</td>\n",
       "      <td>5.92</td>\n",
       "      <td>5.92</td>\n",
       "      <td>5.92</td>\n",
       "      <td>5.92</td>\n",
       "      <td>2.4</td>\n",
       "      <td>0.60</td>\n",
       "      <td>-999.00</td>\n",
       "      <td>-999.00</td>\n",
       "      <td>-999.00</td>\n",
       "    </tr>\n",
       "    <tr>\n",
       "      <th>1</th>\n",
       "      <td>1</td>\n",
       "      <td>2</td>\n",
       "      <td>6.25</td>\n",
       "      <td>6.25</td>\n",
       "      <td>6.25</td>\n",
       "      <td>6.25</td>\n",
       "      <td>6.25</td>\n",
       "      <td>6.25</td>\n",
       "      <td>4.8</td>\n",
       "      <td>1.20</td>\n",
       "      <td>7.20</td>\n",
       "      <td>5.75</td>\n",
       "      <td>3.82</td>\n",
       "    </tr>\n",
       "    <tr>\n",
       "      <th>2</th>\n",
       "      <td>1</td>\n",
       "      <td>3</td>\n",
       "      <td>6.70</td>\n",
       "      <td>6.70</td>\n",
       "      <td>6.70</td>\n",
       "      <td>6.70</td>\n",
       "      <td>6.70</td>\n",
       "      <td>6.70</td>\n",
       "      <td>8.8</td>\n",
       "      <td>2.20</td>\n",
       "      <td>9.70</td>\n",
       "      <td>5.75</td>\n",
       "      <td>4.42</td>\n",
       "    </tr>\n",
       "    <tr>\n",
       "      <th>3</th>\n",
       "      <td>1</td>\n",
       "      <td>4</td>\n",
       "      <td>6.66</td>\n",
       "      <td>6.66</td>\n",
       "      <td>6.66</td>\n",
       "      <td>6.66</td>\n",
       "      <td>6.66</td>\n",
       "      <td>6.66</td>\n",
       "      <td>8.2</td>\n",
       "      <td>2.05</td>\n",
       "      <td>6.12</td>\n",
       "      <td>4.18</td>\n",
       "      <td>3.76</td>\n",
       "    </tr>\n",
       "    <tr>\n",
       "      <th>4</th>\n",
       "      <td>1</td>\n",
       "      <td>5</td>\n",
       "      <td>7.34</td>\n",
       "      <td>7.34</td>\n",
       "      <td>7.34</td>\n",
       "      <td>7.34</td>\n",
       "      <td>7.34</td>\n",
       "      <td>7.34</td>\n",
       "      <td>13.6</td>\n",
       "      <td>3.40</td>\n",
       "      <td>7.46</td>\n",
       "      <td>5.25</td>\n",
       "      <td>4.87</td>\n",
       "    </tr>\n",
       "  </tbody>\n",
       "</table>\n",
       "</div>"
      ],
      "text/plain": [
       "   orig  dest    da  daToll    s2  s2Toll    s3  s3Toll  walk  bike   wTrnW  \\\n",
       "0     1     1  5.92    5.92  5.92    5.92  5.92    5.92   2.4  0.60 -999.00   \n",
       "1     1     2  6.25    6.25  6.25    6.25  6.25    6.25   4.8  1.20    7.20   \n",
       "2     1     3  6.70    6.70  6.70    6.70  6.70    6.70   8.8  2.20    9.70   \n",
       "3     1     4  6.66    6.66  6.66    6.66  6.66    6.66   8.2  2.05    6.12   \n",
       "4     1     5  7.34    7.34  7.34    7.34  7.34    7.34  13.6  3.40    7.46   \n",
       "\n",
       "    dTrnW   wTrnD  \n",
       "0 -999.00 -999.00  \n",
       "1    5.75    3.82  \n",
       "2    5.75    4.42  \n",
       "3    4.18    3.76  \n",
       "4    5.25    4.87  "
      ]
     },
     "execution_count": 13,
     "metadata": {},
     "output_type": "execute_result"
    }
   ],
   "source": [
    "# Read the timeskims datafile\n",
    "data = pd.read_csv('data/sf_oak_TimeSkims_AM.csv')\n",
    "#print out the first 5 rows of the data table\n",
    "data.head()"
   ]
  },
  {
   "cell_type": "code",
   "execution_count": 9,
   "metadata": {
    "collapsed": false
   },
   "outputs": [],
   "source": [
    "# Read the GeoJson file save the data as a string\n",
    "# json.dumps() dumps the data to a string\n",
    "geojson_data = json.load(open('data/SF_Oak_TAZs.geojson'))\n",
    "geojson_str = json.dumps(geojson_data) "
   ]
  },
  {
   "cell_type": "markdown",
   "metadata": {},
   "source": [
    "## Mapping the TAZs\n",
    "We will use a mapping package called Folium to map the TAZs\n",
    "\n"
   ]
  },
  {
   "cell_type": "code",
   "execution_count": 4,
   "metadata": {
    "collapsed": false
   },
   "outputs": [
    {
     "data": {
      "text/html": [
       "<iframe class=\"folium-iframe\" src=\"files/map.html\" style=\"width: 650px; height: 500px; border: none; margin-left: 75px;\" scrolling=\"no\"></iframe>"
      ],
      "text/plain": [
       "<folium.folium.Map at 0x7fb3de1f77b8>"
      ]
     },
     "execution_count": 4,
     "metadata": {},
     "output_type": "execute_result"
    }
   ],
   "source": [
    "# Create a folium map object. Set the width, and height of the map image \n",
    "# as well as start zoom level and center location\n",
    "taz_map = folium.Map(width=650, height=500, zoom_start=11,\n",
    "                     location=[37.8062449,-122.371983])\n",
    "\n",
    "# Add the taz geojson data layer to the map using the geo_json() method\n",
    "taz_map.geo_json(geo_str=geojson_str)\n",
    "\n",
    "# Create the map - notice that a file called map.html has been added to your demos folder \n",
    "taz_map.create_map('map.html')\n",
    "\n",
    "#to show the map in-line\n",
    "taz_map"
   ]
  },
  {
   "cell_type": "markdown",
   "metadata": {},
   "source": [
    "## Travel time from one TAZ to all others\n"
   ]
  },
  {
   "cell_type": "code",
   "execution_count": 15,
   "metadata": {
    "collapsed": false
   },
   "outputs": [],
   "source": [
    "#choose an origin TAZ\n",
    "origin_taz_id=10\n",
    "\n",
    "# save a new data frame that contains only rows with the origin specified above \n",
    "data_origin = data[data['orig']==origin_taz_id]"
   ]
  },
  {
   "cell_type": "markdown",
   "metadata": {},
   "source": [
    "Folium allows us to color map elemets based on data. We will again use folium's geo_json() method, but now we will use additional arguments to color the TAZs based on travel time. \n",
    "We will use the following inputs to the geojson method:\n",
    "\n",
    "    data: Pandas DataFrame or Series, default None\n",
    "        Data to bind to the GeoJSON.\n",
    "    columns: the columns of the dataframe that we will use to color the data\n",
    "    key_on: string, default None\n",
    "        Variable in the GeoJSON file to bind the data to. Must always\n",
    "        start with 'feature' and be in JavaScript objection notation.\n",
    "        Ex: 'feature.id' or 'feature.properties.statename'. \n",
    "    threshold_scale: list, default None\n",
    "        Data range for D3 threshold scale. Defaults to the following range\n",
    "        of quantiles: [0, 0.5, 0.75, 0.85, 0.9], rounded to the nearest\n",
    "        order-of-magnitude integer. Ex: 270 rounds to 200, 5600 to 6000.\n",
    "    fill_color: string, default 'blue'\n",
    "        Area fill color. Can pass a hex code, color name, or if you are\n",
    "        binding data, one of the following color brewer palettes:\n",
    "        'BuGn', 'BuPu', 'GnBu', 'OrRd', 'PuBu', 'PuBuGn', 'PuRd', 'RdPu',\n",
    "        'YlGn', 'YlGnBu', 'YlOrBr', and 'YlOrRd'.\n"
   ]
  },
  {
   "cell_type": "code",
   "execution_count": 22,
   "metadata": {
    "collapsed": false,
    "scrolled": false
   },
   "outputs": [
    {
     "data": {
      "text/html": [
       "<iframe class=\"folium-iframe\" src=\"files/map.html\" style=\"width: 650px; height: 500px; border: none; margin-left: 75px;\" scrolling=\"no\"></iframe>"
      ],
      "text/plain": [
       "<folium.folium.Map at 0x7fb3ddf0d208>"
      ]
     },
     "execution_count": 22,
     "metadata": {},
     "output_type": "execute_result"
    }
   ],
   "source": [
    "traveltime_map = folium.Map(width=650, height=500, zoom_start=11,\n",
    "                            location=[37.8062449,-122.371983])\n",
    "\n",
    "traveltime_map.geo_json(geo_str=geojson_str, data=data_origin,\n",
    "                        columns=['dest', 'wTrnW'],\n",
    "                        threshold_scale=[10,20,30,40,50],\n",
    "                        key_on='feature.properties.TAZ1454',\n",
    "                        fill_color='BuPu')\n",
    "\n",
    "traveltime_map.create_map('map.html')\n",
    "traveltime_map\n",
    "\n"
   ]
  },
  {
   "cell_type": "code",
   "execution_count": null,
   "metadata": {
    "collapsed": false
   },
   "outputs": [],
   "source": [
    "# find origin_taz_id and color it red\n",
    "for i in range(len(geojson_data['features'])):\n",
    "    if (geojson_data['features'][i]['properties']['TAZ1454'] == origin_taz_id):\n",
    "        break\n",
    "\n",
    "origin_data = geojson_data\n",
    "origin_data['features']= [origin_data['features'][i]]\n",
    "origin_str = json.dumps(origin_data)\n",
    "\n",
    "traveltime_map.geo_json(geo_str=origin_str,fill_color='Red')\n",
    "\n",
    "traveltime_map.create_map('map.html')\n",
    "traveltime_map"
   ]
  },
  {
   "cell_type": "code",
   "execution_count": null,
   "metadata": {
    "collapsed": false
   },
   "outputs": [],
   "source": [
    "# Some questions about travel time\n",
    "\n",
    "# different modes\n",
    "# da - notice benefit of proximity to the highway \n",
    "# transit - prosimity to bart stops for example\n"
   ]
  },
  {
   "cell_type": "code",
   "execution_count": null,
   "metadata": {
    "collapsed": false,
    "scrolled": true
   },
   "outputs": [],
   "source": [
    "# now your turn. Let's look at travel costs from one TAZ to all other TAZs\n",
    "\n"
   ]
  }
 ],
 "metadata": {
  "kernelspec": {
   "display_name": "Python 3",
   "language": "python",
   "name": "python3"
  },
  "language_info": {
   "codemirror_mode": {
    "name": "ipython",
    "version": 3
   },
   "file_extension": ".py",
   "mimetype": "text/x-python",
   "name": "python",
   "nbconvert_exporter": "python",
   "pygments_lexer": "ipython3",
   "version": "3.4.3"
  }
 },
 "nbformat": 4,
 "nbformat_minor": 0
}
