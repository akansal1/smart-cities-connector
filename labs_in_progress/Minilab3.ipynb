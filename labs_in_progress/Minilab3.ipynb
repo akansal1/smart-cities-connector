{
 "cells": [
  {
   "cell_type": "markdown",
   "metadata": {},
   "source": [
    "# Minilab 3\n",
    "\n",
    "[[LAB DESCRIPTION HERE]]\n",
    "\n"
   ]
  },
  {
   "cell_type": "code",
   "execution_count": 1,
   "metadata": {
    "collapsed": false
   },
   "outputs": [],
   "source": [
    "import folium\n",
    "import json\n",
    "from datascience import *\n",
    "import pandas as pd"
   ]
  },
  {
   "cell_type": "markdown",
   "metadata": {},
   "source": [
    "## The dataset\n",
    "MTC provides average travel time, cost and distance from one traffic analysis zone (TAZ) to another. We have pre-processed the data to only include TAZs around San Francisco, Oakland and Berkeley. "
   ]
  },
  {
   "cell_type": "code",
   "execution_count": 6,
   "metadata": {
    "collapsed": false
   },
   "outputs": [],
   "source": [
    "#Note, tables is not working for this!!\n",
    "# data = Table.read_table('data/sf_oak_TimeSkims_AM.csv')\n",
    "# data_1 = data.where('orig',1)\n",
    "# data_1\n",
    "\n",
    "#Pick an origin TAZ:\n",
    "origin_taz_id=10\n",
    "\n",
    "data = pd.read_csv('data/sf_oak_TimeSkims_AM.csv')\n",
    "data_1 = data[data['orig']==origin_taz_id]"
   ]
  },
  {
   "cell_type": "code",
   "execution_count": 8,
   "metadata": {
    "collapsed": false,
    "scrolled": false
   },
   "outputs": [
    {
     "data": {
      "text/html": [
       "<iframe class=\"folium-iframe\" src=\"files/test_map.html\" style=\"width: 650px; height: 500px; border: none; margin-left: 75px;\" scrolling=\"no\"></iframe>"
      ],
      "text/plain": [
       "<folium.folium.Map at 0x7fec88627160>"
      ]
     },
     "execution_count": 8,
     "metadata": {},
     "output_type": "execute_result"
    }
   ],
   "source": [
    "gjd = json.load(open('data/SF_Oak_TAZs.geojson'))\n",
    "\n",
    "gjd_str = json.dumps(gjd)\n",
    "\n",
    "mapa = folium.Map(width=650, height=500, zoom_start=11,\n",
    "                  location=[37.8062449,-122.371983])\n",
    "\n",
    "\n",
    "\n",
    "mapa.geo_json(geo_str=gjd_str, data=data_1,\n",
    "              columns=['dest', 'da'],\n",
    "              threshold_scale=[5,10,15,20,30],\n",
    "              key_on='feature.properties.TAZ1454',\n",
    "              fill_color='BuPu', fill_opacity=0.7, line_opacity=0.5,)\n",
    "\n",
    "# find origin_taz_id and color it red\n",
    "for i in range(len(gjd['features'])):\n",
    "    if (gjd['features'][i]['properties']['TAZ1454'] == origin_taz_id):\n",
    "        break\n",
    "\n",
    "\n",
    "gjd['features']= [gjd['features'][i]]\n",
    "gjd_str = json.dumps(gjd)\n",
    "\n",
    "mapa.geo_json(geo_str=gjd_str,fill_color='Red', \n",
    "              fill_opacity=0.7, line_opacity=0.5,)\n",
    "\n",
    "mapa.create_map('map.html')\n",
    "mapa\n",
    "\n"
   ]
  },
  {
   "cell_type": "code",
   "execution_count": null,
   "metadata": {
    "collapsed": false
   },
   "outputs": [],
   "source": []
  },
  {
   "cell_type": "code",
   "execution_count": null,
   "metadata": {
    "collapsed": false,
    "scrolled": true
   },
   "outputs": [],
   "source": [
    "\n",
    "\n"
   ]
  }
 ],
 "metadata": {
  "kernelspec": {
   "display_name": "Python 3",
   "language": "python",
   "name": "python3"
  },
  "language_info": {
   "codemirror_mode": {
    "name": "ipython",
    "version": 3
   },
   "file_extension": ".py",
   "mimetype": "text/x-python",
   "name": "python",
   "nbconvert_exporter": "python",
   "pygments_lexer": "ipython3",
   "version": "3.4.3"
  }
 },
 "nbformat": 4,
 "nbformat_minor": 0
}
